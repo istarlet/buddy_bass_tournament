{
 "cells": [
  {
   "cell_type": "markdown",
   "metadata": {},
   "source": [
    "<h1 align=\"center\"><strong>Buddy Bass Fishing Tournament</strong></h1>\n",
    "\n",
    "<div align=\"center\"><img src=\"images/PB040066.JPG\" height=\"750\" /></div>\n",
    "\n",
    "<p align=\"center\">Pictured: Sam and Bob Perry</p>"
   ]
  },
  {
   "cell_type": "markdown",
   "metadata": {},
   "source": [
    "The Buddy Bass Tournament on Williamstown Lake was started in 1985 by twin brothers: Bob and Sam Perry. They held their final tournament season in 2020.  \n",
    "\n",
    "\n",
    "In this notebook, I'll take a look at the dataset from the Buddy Bass Tournament 2020 Season to try to *insert what I'm going to do here*. I will use the following dataset: dataset/Buddy_Bass_Tournament_2020.xlsx, that I received from my dad, Sam Perry.\n",
    "\n",
    "Dataset:\n",
    "The dataset I'll use is an excel spreadsheet with data collected from the weekly fishing tournament."
   ]
  },
  {
   "cell_type": "markdown",
   "metadata": {},
   "source": [
    "<h2><strong>1. Read the Data In</strong></h2>\n",
    "\n",
    "This is where I import any needed Python libraries and all datasets I'll use in this notebook."
   ]
  },
  {
   "cell_type": "code",
   "execution_count": 449,
   "metadata": {},
   "outputs": [],
   "source": [
    "# Import libraries\n",
    "from matplotlib import pyplot as plt\n",
    "import pandas as pd\n",
    "import numpy as np\n",
    "\n",
    "# Column of dates to parse\n",
    "date_col = [\"Date\"]\n",
    "\n",
    "# Read the Excel file for the 2020 tournament and skip 2 rows so dataframe starts with the column headers\n",
    "buddy_bass_tournament20 = pd.read_excel(\"data/Buddy_Bass_Tournament_2020.xlsx\", skiprows = 2)"
   ]
  },
  {
   "cell_type": "code",
   "execution_count": 450,
   "metadata": {},
   "outputs": [
    {
     "data": {
      "text/html": [
       "<div>\n",
       "<style scoped>\n",
       "    .dataframe tbody tr th:only-of-type {\n",
       "        vertical-align: middle;\n",
       "    }\n",
       "\n",
       "    .dataframe tbody tr th {\n",
       "        vertical-align: top;\n",
       "    }\n",
       "\n",
       "    .dataframe thead th {\n",
       "        text-align: right;\n",
       "    }\n",
       "</style>\n",
       "<table border=\"1\" class=\"dataframe\">\n",
       "  <thead>\n",
       "    <tr style=\"text-align: right;\">\n",
       "      <th></th>\n",
       "      <th>Date</th>\n",
       "      <th>Number of Boats</th>\n",
       "      <th>Total No of Fish Caught</th>\n",
       "      <th>Total Weight in Pounds</th>\n",
       "      <th>Big Fish (LBS)</th>\n",
       "      <th>Avg Water Temp</th>\n",
       "      <th>Big Fish/Year (LBS)</th>\n",
       "    </tr>\n",
       "  </thead>\n",
       "  <tbody>\n",
       "    <tr>\n",
       "      <th>0</th>\n",
       "      <td>2020-06-03</td>\n",
       "      <td>25.0</td>\n",
       "      <td>28.0</td>\n",
       "      <td>46.20</td>\n",
       "      <td>4.56</td>\n",
       "      <td>NaN</td>\n",
       "      <td>NaN</td>\n",
       "    </tr>\n",
       "    <tr>\n",
       "      <th>1</th>\n",
       "      <td>2020-06-10</td>\n",
       "      <td>28.0</td>\n",
       "      <td>71.0</td>\n",
       "      <td>105.98</td>\n",
       "      <td>4.80</td>\n",
       "      <td>NaN</td>\n",
       "      <td>NaN</td>\n",
       "    </tr>\n",
       "    <tr>\n",
       "      <th>2</th>\n",
       "      <td>2020-06-24</td>\n",
       "      <td>29.0</td>\n",
       "      <td>49.0</td>\n",
       "      <td>77.00</td>\n",
       "      <td>4.32</td>\n",
       "      <td>75.2</td>\n",
       "      <td>Wieda/Young  5.48  *</td>\n",
       "    </tr>\n",
       "    <tr>\n",
       "      <th>3</th>\n",
       "      <td>2020-07-01</td>\n",
       "      <td>33.0</td>\n",
       "      <td>61.0</td>\n",
       "      <td>83.86</td>\n",
       "      <td>5.26</td>\n",
       "      <td>76.8</td>\n",
       "      <td>\"</td>\n",
       "    </tr>\n",
       "    <tr>\n",
       "      <th>4</th>\n",
       "      <td>2020-07-08</td>\n",
       "      <td>26.0</td>\n",
       "      <td>50.0</td>\n",
       "      <td>74.30</td>\n",
       "      <td>4.50</td>\n",
       "      <td>76.8</td>\n",
       "      <td>\"</td>\n",
       "    </tr>\n",
       "  </tbody>\n",
       "</table>\n",
       "</div>"
      ],
      "text/plain": [
       "        Date  Number of Boats  Total No of Fish Caught  \\\n",
       "0 2020-06-03             25.0                     28.0   \n",
       "1 2020-06-10             28.0                     71.0   \n",
       "2 2020-06-24             29.0                     49.0   \n",
       "3 2020-07-01             33.0                     61.0   \n",
       "4 2020-07-08             26.0                     50.0   \n",
       "\n",
       "   Total Weight in Pounds  Big Fish (LBS)  Avg Water Temp  \\\n",
       "0                   46.20            4.56             NaN   \n",
       "1                  105.98            4.80             NaN   \n",
       "2                   77.00            4.32            75.2   \n",
       "3                   83.86            5.26            76.8   \n",
       "4                   74.30            4.50            76.8   \n",
       "\n",
       "            Big Fish/Year (LBS)  \n",
       "0                           NaN  \n",
       "1                           NaN  \n",
       "2        Wieda/Young  5.48  *    \n",
       "3                             \"  \n",
       "4                             \"  "
      ]
     },
     "execution_count": 450,
     "metadata": {},
     "output_type": "execute_result"
    }
   ],
   "source": [
    "# View the first five rows of data\n",
    "buddy_bass_tournament20.head()"
   ]
  },
  {
   "cell_type": "markdown",
   "metadata": {},
   "source": [
    "<h2><strong>2. Manipulate and Clean the Data</strong></h2>\n",
    "<p>I noticed after reading in the dataset that:</p>\n",
    "<ol>\n",
    "<li>The dates in the \"Date\" column need to start on 2020-06-10 instead of 2022-06-03</li>\n",
    "<li>I didn't need the \"Big Fish/Year (LBS)\" or \"Avg Water Temp\" columns</li>\n",
    "<li>The dataset had NaNs (Not a Number) appearing in several columns\n",
    "</ol>"
   ]
  },
  {
   "cell_type": "markdown",
   "metadata": {},
   "source": [
    "<h3><strong>1. Fix the dates in the \"Date\" column</strong></h3>"
   ]
  },
  {
   "cell_type": "code",
   "execution_count": 451,
   "metadata": {},
   "outputs": [
    {
     "name": "stdout",
     "output_type": "stream",
     "text": [
      "0    2020-06-10\n",
      "1    2020-06-17\n",
      "2    2020-06-24\n",
      "3    2020-07-01\n",
      "4    2020-07-08\n",
      "5    2020-07-15\n",
      "6    2020-07-22\n",
      "7    2020-07-29\n",
      "8    2020-08-05\n",
      "9    2020-08-12\n",
      "10   2020-08-19\n",
      "11   2020-08-26\n",
      "12   2020-09-02\n",
      "13   2020-09-09\n",
      "14   2020-09-16\n",
      "dtype: datetime64[ns]\n"
     ]
    }
   ],
   "source": [
    "# Create date range that starts on 06/10/2022 and then every Wednesday for the next 15 periods\n",
    "dates = pd.Series(pd.date_range(\"06/10/2020\", freq=\"W-WED\", periods=15))\n",
    "\n",
    "print(dates)"
   ]
  },
  {
   "cell_type": "code",
   "execution_count": 452,
   "metadata": {},
   "outputs": [
    {
     "name": "stdout",
     "output_type": "stream",
     "text": [
      "         Date\n",
      "0  2020-06-10\n",
      "1  2020-06-17\n",
      "2  2020-06-24\n",
      "3  2020-07-01\n",
      "4  2020-07-08\n",
      "5  2020-07-15\n",
      "6  2020-07-22\n",
      "7  2020-07-29\n",
      "8  2020-08-05\n",
      "9  2020-08-12\n",
      "10 2020-08-19\n",
      "11 2020-08-26\n",
      "12 2020-09-02\n",
      "13 2020-09-09\n",
      "14 2020-09-16\n"
     ]
    }
   ],
   "source": [
    "# Replace \"Date\" column with date series \n",
    "buddy_bass_tournament20[\"Date\"] = dates\n",
    "\n",
    "# View \"Date\" column to verify date series was added to column\n",
    "print(buddy_bass_tournament20[[\"Date\"]])"
   ]
  },
  {
   "cell_type": "code",
   "execution_count": 453,
   "metadata": {},
   "outputs": [
    {
     "name": "stdout",
     "output_type": "stream",
     "text": [
      "         Date  Number of Boats  Total No of Fish Caught  \\\n",
      "0  2020-06-10             25.0                     28.0   \n",
      "1  2020-06-17             28.0                     71.0   \n",
      "2  2020-06-24             29.0                     49.0   \n",
      "3  2020-07-01             33.0                     61.0   \n",
      "4  2020-07-08             26.0                     50.0   \n",
      "5  2020-07-15             29.0                     54.0   \n",
      "6  2020-07-22             32.0                     48.0   \n",
      "7  2020-07-29             31.0                     56.0   \n",
      "8  2020-08-05             37.0                     71.0   \n",
      "9  2020-08-12             31.0                     33.0   \n",
      "10 2020-08-19             28.0                     58.0   \n",
      "11 2020-08-26             30.0                     33.0   \n",
      "12 2020-09-02              NaN                      NaN   \n",
      "13 2020-09-09              NaN                      NaN   \n",
      "14 2020-09-16             27.0                     84.0   \n",
      "\n",
      "    Total Weight in Pounds  Big Fish (LBS)  Avg Water Temp  \\\n",
      "0                    46.20            4.56             NaN   \n",
      "1                   105.98            4.80             NaN   \n",
      "2                    77.00            4.32            75.2   \n",
      "3                    83.86            5.26            76.8   \n",
      "4                    74.30            4.50            76.8   \n",
      "5                    68.27            4.26            78.5   \n",
      "6                    58.49            5.36            80.4   \n",
      "7                    76.58            3.36            82.0   \n",
      "8                   102.92            5.44            82.0   \n",
      "9                    41.40            2.34            84.6   \n",
      "10                   75.42            4.46            85.3   \n",
      "11                   48.44            2.84            85.3   \n",
      "12                     NaN             NaN             NaN   \n",
      "13                     NaN             NaN             NaN   \n",
      "14                  125.42            4.28            78.8   \n",
      "\n",
      "             Big Fish/Year (LBS)  \n",
      "0                            NaN  \n",
      "1                            NaN  \n",
      "2         Wieda/Young  5.48  *    \n",
      "3                              \"  \n",
      "4                              \"  \n",
      "5                              \"  \n",
      "6                              \"  \n",
      "7                              \"  \n",
      "8                            NaN  \n",
      "9                            NaN  \n",
      "10                           NaN  \n",
      "11                           NaN  \n",
      "12                           NaN  \n",
      "13                           NaN  \n",
      "14                           NaN  \n"
     ]
    }
   ],
   "source": [
    "# View buddy_bass_tournament20 to verify dates were correctly added to \"Dates\" column\n",
    "print(buddy_bass_tournament20)"
   ]
  },
  {
   "cell_type": "markdown",
   "metadata": {},
   "source": [
    "<h3><strong>2. Drop the \"Big Fish/Year (LBS)\" and \"Avg Water Temp\" columns</strong></h3>"
   ]
  },
  {
   "cell_type": "code",
   "execution_count": 454,
   "metadata": {},
   "outputs": [
    {
     "data": {
      "text/html": [
       "<div>\n",
       "<style scoped>\n",
       "    .dataframe tbody tr th:only-of-type {\n",
       "        vertical-align: middle;\n",
       "    }\n",
       "\n",
       "    .dataframe tbody tr th {\n",
       "        vertical-align: top;\n",
       "    }\n",
       "\n",
       "    .dataframe thead th {\n",
       "        text-align: right;\n",
       "    }\n",
       "</style>\n",
       "<table border=\"1\" class=\"dataframe\">\n",
       "  <thead>\n",
       "    <tr style=\"text-align: right;\">\n",
       "      <th></th>\n",
       "      <th>Date</th>\n",
       "      <th>Number of Boats</th>\n",
       "      <th>Total No of Fish Caught</th>\n",
       "      <th>Total Weight in Pounds</th>\n",
       "      <th>Big Fish (LBS)</th>\n",
       "    </tr>\n",
       "  </thead>\n",
       "  <tbody>\n",
       "    <tr>\n",
       "      <th>0</th>\n",
       "      <td>2020-06-10</td>\n",
       "      <td>25.0</td>\n",
       "      <td>28.0</td>\n",
       "      <td>46.20</td>\n",
       "      <td>4.56</td>\n",
       "    </tr>\n",
       "    <tr>\n",
       "      <th>1</th>\n",
       "      <td>2020-06-17</td>\n",
       "      <td>28.0</td>\n",
       "      <td>71.0</td>\n",
       "      <td>105.98</td>\n",
       "      <td>4.80</td>\n",
       "    </tr>\n",
       "    <tr>\n",
       "      <th>2</th>\n",
       "      <td>2020-06-24</td>\n",
       "      <td>29.0</td>\n",
       "      <td>49.0</td>\n",
       "      <td>77.00</td>\n",
       "      <td>4.32</td>\n",
       "    </tr>\n",
       "    <tr>\n",
       "      <th>3</th>\n",
       "      <td>2020-07-01</td>\n",
       "      <td>33.0</td>\n",
       "      <td>61.0</td>\n",
       "      <td>83.86</td>\n",
       "      <td>5.26</td>\n",
       "    </tr>\n",
       "    <tr>\n",
       "      <th>4</th>\n",
       "      <td>2020-07-08</td>\n",
       "      <td>26.0</td>\n",
       "      <td>50.0</td>\n",
       "      <td>74.30</td>\n",
       "      <td>4.50</td>\n",
       "    </tr>\n",
       "  </tbody>\n",
       "</table>\n",
       "</div>"
      ],
      "text/plain": [
       "        Date  Number of Boats  Total No of Fish Caught  \\\n",
       "0 2020-06-10             25.0                     28.0   \n",
       "1 2020-06-17             28.0                     71.0   \n",
       "2 2020-06-24             29.0                     49.0   \n",
       "3 2020-07-01             33.0                     61.0   \n",
       "4 2020-07-08             26.0                     50.0   \n",
       "\n",
       "   Total Weight in Pounds  Big Fish (LBS)  \n",
       "0                   46.20            4.56  \n",
       "1                  105.98            4.80  \n",
       "2                   77.00            4.32  \n",
       "3                   83.86            5.26  \n",
       "4                   74.30            4.50  "
      ]
     },
     "execution_count": 454,
     "metadata": {},
     "output_type": "execute_result"
    }
   ],
   "source": [
    "# Drop the \"Big Fish/Year (LBS)\" and \"Avg Water Temp\" columns and set the dataframe to buddy_bass_2020 variable\n",
    "buddy_bass_2020 = buddy_bass_tournament20.drop(columns=['Big Fish/Year (LBS)', \"Avg Water Temp\"])\n",
    "\n",
    "# View first five rows of data to confirm that the column is gone\n",
    "buddy_bass_2020.head()"
   ]
  },
  {
   "cell_type": "markdown",
   "metadata": {},
   "source": [
    "<h3><strong>3. Replace the NaNs in the dataset with 0</strong></h3>"
   ]
  },
  {
   "cell_type": "code",
   "execution_count": 455,
   "metadata": {},
   "outputs": [],
   "source": [
    "# Fill all NaN in dataset with 0\n",
    "buddy_bass_2020 = buddy_bass_2020.fillna(0)"
   ]
  },
  {
   "cell_type": "markdown",
   "metadata": {},
   "source": [
    "<h2><strong>3. Analyze the Data</strong></h2>"
   ]
  },
  {
   "cell_type": "code",
   "execution_count": 456,
   "metadata": {},
   "outputs": [
    {
     "name": "stdout",
     "output_type": "stream",
     "text": [
      "<class 'pandas.core.frame.DataFrame'>\n",
      "RangeIndex: 15 entries, 0 to 14\n",
      "Data columns (total 5 columns):\n",
      " #   Column                   Non-Null Count  Dtype         \n",
      "---  ------                   --------------  -----         \n",
      " 0   Date                     15 non-null     datetime64[ns]\n",
      " 1   Number of Boats          15 non-null     float64       \n",
      " 2   Total No of Fish Caught  15 non-null     float64       \n",
      " 3   Total Weight in Pounds   15 non-null     float64       \n",
      " 4   Big Fish (LBS)           15 non-null     float64       \n",
      "dtypes: datetime64[ns](1), float64(4)\n",
      "memory usage: 728.0 bytes\n"
     ]
    }
   ],
   "source": [
    "# Display information about the columns including data type and number of any missing values\n",
    "buddy_bass_2020.info()"
   ]
  },
  {
   "cell_type": "code",
   "execution_count": 457,
   "metadata": {},
   "outputs": [
    {
     "data": {
      "text/plain": [
       "(15, 5)"
      ]
     },
     "execution_count": 457,
     "metadata": {},
     "output_type": "execute_result"
    }
   ],
   "source": [
    "# Return the number of rows and columns in the data\n",
    "buddy_bass_2020.shape"
   ]
  },
  {
   "cell_type": "code",
   "execution_count": 458,
   "metadata": {},
   "outputs": [
    {
     "data": {
      "text/html": [
       "<div>\n",
       "<style scoped>\n",
       "    .dataframe tbody tr th:only-of-type {\n",
       "        vertical-align: middle;\n",
       "    }\n",
       "\n",
       "    .dataframe tbody tr th {\n",
       "        vertical-align: top;\n",
       "    }\n",
       "\n",
       "    .dataframe thead th {\n",
       "        text-align: right;\n",
       "    }\n",
       "</style>\n",
       "<table border=\"1\" class=\"dataframe\">\n",
       "  <thead>\n",
       "    <tr style=\"text-align: right;\">\n",
       "      <th></th>\n",
       "      <th>Number of Boats</th>\n",
       "      <th>Total No of Fish Caught</th>\n",
       "      <th>Total Weight in Pounds</th>\n",
       "      <th>Big Fish (LBS)</th>\n",
       "    </tr>\n",
       "  </thead>\n",
       "  <tbody>\n",
       "    <tr>\n",
       "      <th>count</th>\n",
       "      <td>15.000000</td>\n",
       "      <td>15.000000</td>\n",
       "      <td>15.000000</td>\n",
       "      <td>15.000000</td>\n",
       "    </tr>\n",
       "    <tr>\n",
       "      <th>mean</th>\n",
       "      <td>25.733333</td>\n",
       "      <td>46.400000</td>\n",
       "      <td>65.618667</td>\n",
       "      <td>3.718667</td>\n",
       "    </tr>\n",
       "    <tr>\n",
       "      <th>std</th>\n",
       "      <td>10.859273</td>\n",
       "      <td>24.124084</td>\n",
       "      <td>35.131072</td>\n",
       "      <td>1.742289</td>\n",
       "    </tr>\n",
       "    <tr>\n",
       "      <th>min</th>\n",
       "      <td>0.000000</td>\n",
       "      <td>0.000000</td>\n",
       "      <td>0.000000</td>\n",
       "      <td>0.000000</td>\n",
       "    </tr>\n",
       "    <tr>\n",
       "      <th>25%</th>\n",
       "      <td>26.500000</td>\n",
       "      <td>33.000000</td>\n",
       "      <td>47.320000</td>\n",
       "      <td>3.100000</td>\n",
       "    </tr>\n",
       "    <tr>\n",
       "      <th>50%</th>\n",
       "      <td>29.000000</td>\n",
       "      <td>50.000000</td>\n",
       "      <td>74.300000</td>\n",
       "      <td>4.320000</td>\n",
       "    </tr>\n",
       "    <tr>\n",
       "      <th>75%</th>\n",
       "      <td>31.000000</td>\n",
       "      <td>59.500000</td>\n",
       "      <td>80.430000</td>\n",
       "      <td>4.680000</td>\n",
       "    </tr>\n",
       "    <tr>\n",
       "      <th>max</th>\n",
       "      <td>37.000000</td>\n",
       "      <td>84.000000</td>\n",
       "      <td>125.420000</td>\n",
       "      <td>5.440000</td>\n",
       "    </tr>\n",
       "  </tbody>\n",
       "</table>\n",
       "</div>"
      ],
      "text/plain": [
       "       Number of Boats  Total No of Fish Caught  Total Weight in Pounds  \\\n",
       "count        15.000000                15.000000               15.000000   \n",
       "mean         25.733333                46.400000               65.618667   \n",
       "std          10.859273                24.124084               35.131072   \n",
       "min           0.000000                 0.000000                0.000000   \n",
       "25%          26.500000                33.000000               47.320000   \n",
       "50%          29.000000                50.000000               74.300000   \n",
       "75%          31.000000                59.500000               80.430000   \n",
       "max          37.000000                84.000000              125.420000   \n",
       "\n",
       "       Big Fish (LBS)  \n",
       "count       15.000000  \n",
       "mean         3.718667  \n",
       "std          1.742289  \n",
       "min          0.000000  \n",
       "25%          3.100000  \n",
       "50%          4.320000  \n",
       "75%          4.680000  \n",
       "max          5.440000  "
      ]
     },
     "execution_count": 458,
     "metadata": {},
     "output_type": "execute_result"
    }
   ],
   "source": [
    "# Display a summary of statistics calculated for each column\n",
    "buddy_bass_2020.describe()"
   ]
  },
  {
   "cell_type": "code",
   "execution_count": 459,
   "metadata": {},
   "outputs": [
    {
     "data": {
      "text/plain": [
       "Index(['Date', 'Number of Boats', 'Total No of Fish Caught',\n",
       "       'Total Weight in Pounds', 'Big Fish (LBS)'],\n",
       "      dtype='object')"
      ]
     },
     "execution_count": 459,
     "metadata": {},
     "output_type": "execute_result"
    }
   ],
   "source": [
    "# Creates an index of the column names\n",
    "buddy_bass_2020.columns"
   ]
  },
  {
   "cell_type": "code",
   "execution_count": 460,
   "metadata": {},
   "outputs": [
    {
     "name": "stdout",
     "output_type": "stream",
     "text": [
      "        Date  Number of Boats  Total No of Fish Caught  \\\n",
      "0 2020-06-10             25.0                     28.0   \n",
      "1 2020-06-17             28.0                     71.0   \n",
      "2 2020-06-24             29.0                     49.0   \n",
      "3 2020-07-01             33.0                     61.0   \n",
      "4 2020-07-08             26.0                     50.0   \n",
      "\n",
      "   Total Weight in Pounds  Big Fish (LBS)  Average Fish Weight  \n",
      "0                   46.20            4.56             1.650000  \n",
      "1                  105.98            4.80             1.492676  \n",
      "2                   77.00            4.32             1.571429  \n",
      "3                   83.86            5.26             1.374754  \n",
      "4                   74.30            4.50             1.486000  \n"
     ]
    }
   ],
   "source": [
    "# Create a new column called \"Average Fish Weight\" with the data from calculating the average fish weight\n",
    "buddy_bass_2020[\"Average Fish Weight\"] = buddy_bass_2020[\"Total Weight in Pounds\"] / buddy_bass_2020[\"Total No of Fish Caught\"]\n",
    "\n",
    "# \n",
    "print(buddy_bass_2020.head())"
   ]
  },
  {
   "cell_type": "code",
   "execution_count": 399,
   "metadata": {},
   "outputs": [
    {
     "data": {
      "text/html": [
       "<div>\n",
       "<style scoped>\n",
       "    .dataframe tbody tr th:only-of-type {\n",
       "        vertical-align: middle;\n",
       "    }\n",
       "\n",
       "    .dataframe tbody tr th {\n",
       "        vertical-align: top;\n",
       "    }\n",
       "\n",
       "    .dataframe thead th {\n",
       "        text-align: right;\n",
       "    }\n",
       "</style>\n",
       "<table border=\"1\" class=\"dataframe\">\n",
       "  <thead>\n",
       "    <tr style=\"text-align: right;\">\n",
       "      <th></th>\n",
       "      <th>Number of Boats</th>\n",
       "      <th>Total No of Fish Caught</th>\n",
       "    </tr>\n",
       "  </thead>\n",
       "  <tbody>\n",
       "    <tr>\n",
       "      <th>0</th>\n",
       "      <td>25.0</td>\n",
       "      <td>28.0</td>\n",
       "    </tr>\n",
       "    <tr>\n",
       "      <th>1</th>\n",
       "      <td>28.0</td>\n",
       "      <td>71.0</td>\n",
       "    </tr>\n",
       "    <tr>\n",
       "      <th>2</th>\n",
       "      <td>29.0</td>\n",
       "      <td>49.0</td>\n",
       "    </tr>\n",
       "    <tr>\n",
       "      <th>3</th>\n",
       "      <td>33.0</td>\n",
       "      <td>61.0</td>\n",
       "    </tr>\n",
       "    <tr>\n",
       "      <th>4</th>\n",
       "      <td>26.0</td>\n",
       "      <td>50.0</td>\n",
       "    </tr>\n",
       "    <tr>\n",
       "      <th>5</th>\n",
       "      <td>29.0</td>\n",
       "      <td>54.0</td>\n",
       "    </tr>\n",
       "    <tr>\n",
       "      <th>6</th>\n",
       "      <td>32.0</td>\n",
       "      <td>48.0</td>\n",
       "    </tr>\n",
       "    <tr>\n",
       "      <th>7</th>\n",
       "      <td>31.0</td>\n",
       "      <td>56.0</td>\n",
       "    </tr>\n",
       "    <tr>\n",
       "      <th>8</th>\n",
       "      <td>37.0</td>\n",
       "      <td>71.0</td>\n",
       "    </tr>\n",
       "    <tr>\n",
       "      <th>9</th>\n",
       "      <td>31.0</td>\n",
       "      <td>33.0</td>\n",
       "    </tr>\n",
       "    <tr>\n",
       "      <th>10</th>\n",
       "      <td>28.0</td>\n",
       "      <td>58.0</td>\n",
       "    </tr>\n",
       "    <tr>\n",
       "      <th>11</th>\n",
       "      <td>30.0</td>\n",
       "      <td>33.0</td>\n",
       "    </tr>\n",
       "    <tr>\n",
       "      <th>12</th>\n",
       "      <td>0.0</td>\n",
       "      <td>0.0</td>\n",
       "    </tr>\n",
       "    <tr>\n",
       "      <th>13</th>\n",
       "      <td>0.0</td>\n",
       "      <td>0.0</td>\n",
       "    </tr>\n",
       "    <tr>\n",
       "      <th>14</th>\n",
       "      <td>27.0</td>\n",
       "      <td>84.0</td>\n",
       "    </tr>\n",
       "  </tbody>\n",
       "</table>\n",
       "</div>"
      ],
      "text/plain": [
       "    Number of Boats  Total No of Fish Caught\n",
       "0              25.0                     28.0\n",
       "1              28.0                     71.0\n",
       "2              29.0                     49.0\n",
       "3              33.0                     61.0\n",
       "4              26.0                     50.0\n",
       "5              29.0                     54.0\n",
       "6              32.0                     48.0\n",
       "7              31.0                     56.0\n",
       "8              37.0                     71.0\n",
       "9              31.0                     33.0\n",
       "10             28.0                     58.0\n",
       "11             30.0                     33.0\n",
       "12              0.0                      0.0\n",
       "13              0.0                      0.0\n",
       "14             27.0                     84.0"
      ]
     },
     "execution_count": 399,
     "metadata": {},
     "output_type": "execute_result"
    }
   ],
   "source": [
    "buddy_bass_2020[[\"Number of Boats\", \"Total No of Fish Caught\"]]"
   ]
  },
  {
   "cell_type": "code",
   "execution_count": 461,
   "metadata": {},
   "outputs": [
    {
     "data": {
      "text/html": [
       "<div>\n",
       "<style scoped>\n",
       "    .dataframe tbody tr th:only-of-type {\n",
       "        vertical-align: middle;\n",
       "    }\n",
       "\n",
       "    .dataframe tbody tr th {\n",
       "        vertical-align: top;\n",
       "    }\n",
       "\n",
       "    .dataframe thead th {\n",
       "        text-align: right;\n",
       "    }\n",
       "</style>\n",
       "<table border=\"1\" class=\"dataframe\">\n",
       "  <thead>\n",
       "    <tr style=\"text-align: right;\">\n",
       "      <th></th>\n",
       "      <th>Date</th>\n",
       "      <th>Number of Boats</th>\n",
       "      <th>Total No of Fish Caught</th>\n",
       "      <th>Total Weight in Pounds</th>\n",
       "      <th>Big Fish (LBS)</th>\n",
       "      <th>Average Fish Weight</th>\n",
       "    </tr>\n",
       "  </thead>\n",
       "  <tbody>\n",
       "    <tr>\n",
       "      <th>0</th>\n",
       "      <td>2020-06-10</td>\n",
       "      <td>25.0</td>\n",
       "      <td>28.0</td>\n",
       "      <td>46.20</td>\n",
       "      <td>4.56</td>\n",
       "      <td>1.650000</td>\n",
       "    </tr>\n",
       "    <tr>\n",
       "      <th>1</th>\n",
       "      <td>2020-06-17</td>\n",
       "      <td>28.0</td>\n",
       "      <td>71.0</td>\n",
       "      <td>105.98</td>\n",
       "      <td>4.80</td>\n",
       "      <td>1.492676</td>\n",
       "    </tr>\n",
       "    <tr>\n",
       "      <th>2</th>\n",
       "      <td>2020-06-24</td>\n",
       "      <td>29.0</td>\n",
       "      <td>49.0</td>\n",
       "      <td>77.00</td>\n",
       "      <td>4.32</td>\n",
       "      <td>1.571429</td>\n",
       "    </tr>\n",
       "    <tr>\n",
       "      <th>4</th>\n",
       "      <td>2020-07-08</td>\n",
       "      <td>26.0</td>\n",
       "      <td>50.0</td>\n",
       "      <td>74.30</td>\n",
       "      <td>4.50</td>\n",
       "      <td>1.486000</td>\n",
       "    </tr>\n",
       "    <tr>\n",
       "      <th>5</th>\n",
       "      <td>2020-07-15</td>\n",
       "      <td>29.0</td>\n",
       "      <td>54.0</td>\n",
       "      <td>68.27</td>\n",
       "      <td>4.26</td>\n",
       "      <td>1.264259</td>\n",
       "    </tr>\n",
       "    <tr>\n",
       "      <th>10</th>\n",
       "      <td>2020-08-19</td>\n",
       "      <td>28.0</td>\n",
       "      <td>58.0</td>\n",
       "      <td>75.42</td>\n",
       "      <td>4.46</td>\n",
       "      <td>1.300345</td>\n",
       "    </tr>\n",
       "    <tr>\n",
       "      <th>12</th>\n",
       "      <td>2020-09-02</td>\n",
       "      <td>0.0</td>\n",
       "      <td>0.0</td>\n",
       "      <td>0.00</td>\n",
       "      <td>0.00</td>\n",
       "      <td>NaN</td>\n",
       "    </tr>\n",
       "    <tr>\n",
       "      <th>13</th>\n",
       "      <td>2020-09-09</td>\n",
       "      <td>0.0</td>\n",
       "      <td>0.0</td>\n",
       "      <td>0.00</td>\n",
       "      <td>0.00</td>\n",
       "      <td>NaN</td>\n",
       "    </tr>\n",
       "    <tr>\n",
       "      <th>14</th>\n",
       "      <td>2020-09-16</td>\n",
       "      <td>27.0</td>\n",
       "      <td>84.0</td>\n",
       "      <td>125.42</td>\n",
       "      <td>4.28</td>\n",
       "      <td>1.493095</td>\n",
       "    </tr>\n",
       "  </tbody>\n",
       "</table>\n",
       "</div>"
      ],
      "text/plain": [
       "         Date  Number of Boats  Total No of Fish Caught  \\\n",
       "0  2020-06-10             25.0                     28.0   \n",
       "1  2020-06-17             28.0                     71.0   \n",
       "2  2020-06-24             29.0                     49.0   \n",
       "4  2020-07-08             26.0                     50.0   \n",
       "5  2020-07-15             29.0                     54.0   \n",
       "10 2020-08-19             28.0                     58.0   \n",
       "12 2020-09-02              0.0                      0.0   \n",
       "13 2020-09-09              0.0                      0.0   \n",
       "14 2020-09-16             27.0                     84.0   \n",
       "\n",
       "    Total Weight in Pounds  Big Fish (LBS)  Average Fish Weight  \n",
       "0                    46.20            4.56             1.650000  \n",
       "1                   105.98            4.80             1.492676  \n",
       "2                    77.00            4.32             1.571429  \n",
       "4                    74.30            4.50             1.486000  \n",
       "5                    68.27            4.26             1.264259  \n",
       "10                   75.42            4.46             1.300345  \n",
       "12                    0.00            0.00                  NaN  \n",
       "13                    0.00            0.00                  NaN  \n",
       "14                  125.42            4.28             1.493095  "
      ]
     },
     "execution_count": 461,
     "metadata": {},
     "output_type": "execute_result"
    }
   ],
   "source": [
    "buddy_bass_2020[buddy_bass_2020[\"Number of Boats\"] < 30]"
   ]
  },
  {
   "cell_type": "code",
   "execution_count": 462,
   "metadata": {},
   "outputs": [
    {
     "data": {
      "text/plain": [
       "50.0"
      ]
     },
     "execution_count": 462,
     "metadata": {},
     "output_type": "execute_result"
    }
   ],
   "source": [
    "buddy_bass_2020[\"Total No of Fish Caught\"].median()"
   ]
  },
  {
   "cell_type": "code",
   "execution_count": 463,
   "metadata": {},
   "outputs": [
    {
     "name": "stdout",
     "output_type": "stream",
     "text": [
      "        Date  Number of Boats  Total No of Fish Caught  \\\n",
      "0 2020-06-10             25.0                     28.0   \n",
      "1 2020-06-17             28.0                     71.0   \n",
      "2 2020-06-24             29.0                     49.0   \n",
      "3 2020-07-01             33.0                     61.0   \n",
      "4 2020-07-08             26.0                     50.0   \n",
      "\n",
      "   Total Weight in Pounds  Big Fish (LBS)  Average Fish Weight Month  \n",
      "0                   46.20            4.56             1.650000  June  \n",
      "1                  105.98            4.80             1.492676  June  \n",
      "2                   77.00            4.32             1.571429  June  \n",
      "3                   83.86            5.26             1.374754  July  \n",
      "4                   74.30            4.50             1.486000  July  \n"
     ]
    }
   ],
   "source": [
    "# Add a new column \"Month\" that turns the \"Date\" column into only the month name\n",
    "buddy_bass_2020[\"Month\"] = buddy_bass_2020[\"Date\"]\\\n",
    "    .dt.month_name()\n",
    "\n",
    "print(buddy_bass_2020.head())\n"
   ]
  },
  {
   "cell_type": "code",
   "execution_count": 464,
   "metadata": {},
   "outputs": [
    {
     "name": "stdout",
     "output_type": "stream",
     "text": [
      "           Number of Boats  Total No of Fish Caught  Total Weight in Pounds\n",
      "Month                                                                      \n",
      "June                  82.0                    148.0                  229.18\n",
      "July                 151.0                    269.0                  361.50\n",
      "August               126.0                    195.0                  268.18\n",
      "September             27.0                     84.0                  125.42\n"
     ]
    }
   ],
   "source": [
    "# Group data by \"Month\" and calculate the sum for \"Number of Boats\", \"Total No of Fish Caught\", and \"Total Weight in Pounds\" by month\n",
    "buddy_bass_bar = buddy_bass_2020.groupby(\"Month\", sort=False)[[\"Number of Boats\", \"Total No of Fish Caught\", \"Total Weight in Pounds\"]].sum()\n",
    "\n",
    "print(buddy_bass_bar)"
   ]
  },
  {
   "cell_type": "code",
   "execution_count": 465,
   "metadata": {},
   "outputs": [
    {
     "name": "stdout",
     "output_type": "stream",
     "text": [
      "['green', 'green', 'green', 'blue', 'blue', 'blue', 'blue', 'blue', 'purple', 'purple', 'purple', 'purple', 'red', 'red', 'red']\n"
     ]
    }
   ],
   "source": [
    "# Define an empty list\n",
    "colors = []\n",
    "\n",
    "# Iterate over rows of buddy_bass_month\n",
    "for lab, row in buddy_bass_2020[[\"Month\"]].iterrows() :\n",
    "    if row[\"Month\"] == \"June\" :\n",
    "        colors.append(\"green\")\n",
    "    elif row[\"Month\"] == \"July\" :\n",
    "        colors.append(\"blue\")\n",
    "    elif row[\"Month\"] == \"August\" :\n",
    "        colors.append(\"purple\") \n",
    "    else:\n",
    "        colors.append(\"red\")\n",
    "\n",
    "print(colors)        "
   ]
  },
  {
   "cell_type": "markdown",
   "metadata": {},
   "source": [
    "<h2><strong>4. Visualize the Data</strong></h2>"
   ]
  },
  {
   "cell_type": "markdown",
   "metadata": {},
   "source": [
    "<h3><strong>1. Scatterplot</strong></h3>"
   ]
  },
  {
   "cell_type": "code",
   "execution_count": 479,
   "metadata": {},
   "outputs": [
    {
     "data": {
      "image/png": "[encoded data removed]",
      "text/plain": [
       "<Figure size 864x576 with 1 Axes>"
      ]
     },
     "metadata": {},
     "output_type": "display_data"
    }
   ],
   "source": [
    "# Set the figure style and initalize a new figure\n",
    "plt.style.use('fivethirtyeight')\n",
    "fig = plt.figure(figsize=(12,8))\n",
    "\n",
    "# Create a scatter plot of Total No of Fish Caught versus Date\n",
    "plt.scatter(buddy_bass_2020.Date, buddy_bass_2020[\"Total No of Fish Caught\"], marker=\"s\", color=colors)\n",
    "\n",
    "# Create a title and axis labels\n",
    "plt.title(\"Fish Caught During Weekly Tournament\")\n",
    "plt.xlabel(\"Date\", labelpad=20)\n",
    "plt.xticks(buddy_bass_2020.Date, rotation=45)\n",
    "plt.ylabel(\"Number of Fish Caught\", labelpad=20)\n",
    "\n",
    "# Show the plot\n",
    "plt.show()"
   ]
  },
  {
   "cell_type": "markdown",
   "metadata": {},
   "source": [
    "<h3><strong>2. Bar Plot</strong></h3>"
   ]
  },
  {
   "cell_type": "code",
   "execution_count": 467,
   "metadata": {},
   "outputs": [
    {
     "data": {
      "image/png": "[encoded data removed]",
      "text/plain": [
       "<Figure size 864x576 with 1 Axes>"
      ]
     },
     "metadata": {},
     "output_type": "display_data"
    }
   ],
   "source": [
    "# # Set the figure style and initalize a new figure\n",
    "# plt.style.use('fivethirtyeight')\n",
    "# plt.rcParams[\"figure.figsize\"] = (12, 8)\n",
    "\n",
    "# # Create a bar plot of total Number of Boats, No of Fish Caught, and Weight in Pounds by Month\n",
    "# buddy_bass_bar.plot(kind=\"barh\", fontsize=12)\n",
    "\n",
    "# # Create a title and axis labels\n",
    "# plt.title(\"Buddy Bass Totals by Month\")\n",
    "\n",
    "# # Show the plot\n",
    "# plt.show()"
   ]
  },
  {
   "cell_type": "markdown",
   "metadata": {},
   "source": [
    "<h2><strong>5. Interpret the Data and Graphical Output</strong></h2>"
   ]
  }
 ],
 "metadata": {
  "kernelspec": {
   "display_name": "Python 3.9.7 ('base')",
   "language": "python",
   "name": "python3"
  },
  "language_info": {
   "codemirror_mode": {
    "name": "ipython",
    "version": 3
   },
   "file_extension": ".py",
   "mimetype": "text/x-python",
   "name": "python",
   "nbconvert_exporter": "python",
   "pygments_lexer": "ipython3",
   "version": "3.9.7"
  },
  "orig_nbformat": 4,
  "vscode": {
   "interpreter": {
    "hash": "336eef9849b77f6b0e6305e90cdc738d46520fb9fa12c5786748c59b9e847d10"
   }
  }
 },
 "nbformat": 4,
 "nbformat_minor": 2
}
