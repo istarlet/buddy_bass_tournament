{
 "cells": [
  {
   "cell_type": "markdown",
   "metadata": {},
   "source": [
    "## Buddy Bass Fishing Tournament\n",
    "\n",
    "Dataset:\n",
    "The dataset I'll use is an excel spreadsheet with data collected from the weekly fishing tournament."
   ]
  },
  {
   "cell_type": "markdown",
   "metadata": {},
   "source": []
  },
  {
   "cell_type": "markdown",
   "metadata": {},
   "source": [
    "### Importing the Data\n",
    "\n",
    "This is where I import any needed Python libraries and all datasets I'll use in the notebook."
   ]
  },
  {
   "cell_type": "code",
   "execution_count": 41,
   "metadata": {},
   "outputs": [],
   "source": [
    "# Import libraries\n",
    "from matplotlib import pyplot as plt\n",
    "from datetime import datetime\n",
    "import pandas as pd\n",
    "import numpy as np\n",
    "\n",
    "# Column of dates to parse\n",
    "date_col = [\"Date\"]\n",
    "\n",
    "# Read the Excel file for the year 2020\n",
    "buddy_bass_2020 = pd.read_excel(\"data/Buddy Bass Tournament 2020.xlsx\", skiprows=1, parse_dates=date_col)\n",
    "\n"
   ]
  },
  {
   "cell_type": "code",
   "execution_count": 42,
   "metadata": {},
   "outputs": [],
   "source": [
    "# Read the Excel file for years 2016-2019\n",
    "buddy_bass_tournament19 = pd.read_excel(\"data/Buddy Bass Tournament 2019.xlsx\", skiprows=2, parse_dates=[\"Date\"])\n",
    "\n",
    "buddy_bass_tournament18 = pd.read_excel(\"data/Buddy Bass Tournament 2018.xlsx\", skiprows=2, parse_dates=[\"Date\"])\n",
    "\n",
    "buddy_bass_tournament17 = pd.read_excel(\"data/Buddy Bass Tournament 2017.xlsx\", skiprows=2, parse_dates=[\"Date\"])\n",
    "\n",
    "buddy_bass_tournament16 = pd.read_excel(\"data/Buddy Bass Tournament 2016.xlsx\", skiprows=2, parse_dates=[\"Date\"])"
   ]
  },
  {
   "cell_type": "code",
   "execution_count": 43,
   "metadata": {},
   "outputs": [
    {
     "data": {
      "text/html": [
       "<div>\n",
       "<style scoped>\n",
       "    .dataframe tbody tr th:only-of-type {\n",
       "        vertical-align: middle;\n",
       "    }\n",
       "\n",
       "    .dataframe tbody tr th {\n",
       "        vertical-align: top;\n",
       "    }\n",
       "\n",
       "    .dataframe thead th {\n",
       "        text-align: right;\n",
       "    }\n",
       "</style>\n",
       "<table border=\"1\" class=\"dataframe\">\n",
       "  <thead>\n",
       "    <tr style=\"text-align: right;\">\n",
       "      <th></th>\n",
       "      <th>Date</th>\n",
       "      <th>Total No of                 Fish Caught</th>\n",
       "      <th>Total Weight         in Pounds</th>\n",
       "      <th>Average Weight (LBS)</th>\n",
       "      <th>Big Fish         (LBS)</th>\n",
       "    </tr>\n",
       "  </thead>\n",
       "  <tbody>\n",
       "    <tr>\n",
       "      <th>0</th>\n",
       "      <td>2020-04-17 00:00:00</td>\n",
       "      <td>25.0</td>\n",
       "      <td>53.30</td>\n",
       "      <td>2.132</td>\n",
       "      <td>5.60</td>\n",
       "    </tr>\n",
       "    <tr>\n",
       "      <th>1</th>\n",
       "      <td>2020-04-24 00:00:00</td>\n",
       "      <td>22.0</td>\n",
       "      <td>35.36</td>\n",
       "      <td>1.607273</td>\n",
       "      <td>5.14</td>\n",
       "    </tr>\n",
       "    <tr>\n",
       "      <th>2</th>\n",
       "      <td>2020-05-01 00:00:00</td>\n",
       "      <td>39.0</td>\n",
       "      <td>69.80</td>\n",
       "      <td>1.789744</td>\n",
       "      <td>5.56</td>\n",
       "    </tr>\n",
       "    <tr>\n",
       "      <th>3</th>\n",
       "      <td>2020-05-08 00:00:00</td>\n",
       "      <td>24.0</td>\n",
       "      <td>42.20</td>\n",
       "      <td>1.758333</td>\n",
       "      <td>5.20</td>\n",
       "    </tr>\n",
       "    <tr>\n",
       "      <th>4</th>\n",
       "      <td>2020-05-15 00:00:00</td>\n",
       "      <td>61.0</td>\n",
       "      <td>92.20</td>\n",
       "      <td>1.511475</td>\n",
       "      <td>4.90</td>\n",
       "    </tr>\n",
       "  </tbody>\n",
       "</table>\n",
       "</div>"
      ],
      "text/plain": [
       "                  Date  Total No of                 Fish Caught  \\\n",
       "0  2020-04-17 00:00:00                                     25.0   \n",
       "1  2020-04-24 00:00:00                                     22.0   \n",
       "2  2020-05-01 00:00:00                                     39.0   \n",
       "3  2020-05-08 00:00:00                                     24.0   \n",
       "4  2020-05-15 00:00:00                                     61.0   \n",
       "\n",
       "   Total Weight         in Pounds Average Weight (LBS)  Big Fish         (LBS)  \n",
       "0                           53.30                2.132                    5.60  \n",
       "1                           35.36             1.607273                    5.14  \n",
       "2                           69.80             1.789744                    5.56  \n",
       "3                           42.20             1.758333                    5.20  \n",
       "4                           92.20             1.511475                    4.90  "
      ]
     },
     "execution_count": 43,
     "metadata": {},
     "output_type": "execute_result"
    }
   ],
   "source": [
    "buddy_bass_2019 = buddy_bass_tournament19.drop(columns=['Big Fish/Year (LBS)'])\n",
    "\n",
    "buddy_bass_2019.head()"
   ]
  },
  {
   "cell_type": "markdown",
   "metadata": {},
   "source": [
    "### Exploring the Imported Data"
   ]
  },
  {
   "cell_type": "code",
   "execution_count": 44,
   "metadata": {},
   "outputs": [
    {
     "data": {
      "text/html": [
       "<div>\n",
       "<style scoped>\n",
       "    .dataframe tbody tr th:only-of-type {\n",
       "        vertical-align: middle;\n",
       "    }\n",
       "\n",
       "    .dataframe tbody tr th {\n",
       "        vertical-align: top;\n",
       "    }\n",
       "\n",
       "    .dataframe thead th {\n",
       "        text-align: right;\n",
       "    }\n",
       "</style>\n",
       "<table border=\"1\" class=\"dataframe\">\n",
       "  <thead>\n",
       "    <tr style=\"text-align: right;\">\n",
       "      <th></th>\n",
       "      <th>Date</th>\n",
       "      <th>Number of Boats</th>\n",
       "      <th>Total No of Fish Caught</th>\n",
       "      <th>Total Weight in Pounds</th>\n",
       "      <th>Big Fish (LBS)</th>\n",
       "      <th>Avg Water Temp</th>\n",
       "    </tr>\n",
       "  </thead>\n",
       "  <tbody>\n",
       "    <tr>\n",
       "      <th>0</th>\n",
       "      <td>2020-06-24</td>\n",
       "      <td>29.0</td>\n",
       "      <td>49.0</td>\n",
       "      <td>69.80</td>\n",
       "      <td>4.32</td>\n",
       "      <td>75.2</td>\n",
       "    </tr>\n",
       "    <tr>\n",
       "      <th>1</th>\n",
       "      <td>2020-07-01</td>\n",
       "      <td>33.0</td>\n",
       "      <td>61.0</td>\n",
       "      <td>42.20</td>\n",
       "      <td>5.26</td>\n",
       "      <td>76.8</td>\n",
       "    </tr>\n",
       "    <tr>\n",
       "      <th>2</th>\n",
       "      <td>2020-07-08</td>\n",
       "      <td>26.0</td>\n",
       "      <td>50.0</td>\n",
       "      <td>92.20</td>\n",
       "      <td>4.50</td>\n",
       "      <td>76.8</td>\n",
       "    </tr>\n",
       "    <tr>\n",
       "      <th>3</th>\n",
       "      <td>2020-07-15</td>\n",
       "      <td>29.0</td>\n",
       "      <td>54.0</td>\n",
       "      <td>90.31</td>\n",
       "      <td>4.26</td>\n",
       "      <td>78.5</td>\n",
       "    </tr>\n",
       "    <tr>\n",
       "      <th>4</th>\n",
       "      <td>2020-07-22</td>\n",
       "      <td>32.0</td>\n",
       "      <td>48.0</td>\n",
       "      <td>52.94</td>\n",
       "      <td>5.36</td>\n",
       "      <td>80.4</td>\n",
       "    </tr>\n",
       "  </tbody>\n",
       "</table>\n",
       "</div>"
      ],
      "text/plain": [
       "        Date  Number of Boats  Total No of Fish Caught  \\\n",
       "0 2020-06-24             29.0                     49.0   \n",
       "1 2020-07-01             33.0                     61.0   \n",
       "2 2020-07-08             26.0                     50.0   \n",
       "3 2020-07-15             29.0                     54.0   \n",
       "4 2020-07-22             32.0                     48.0   \n",
       "\n",
       "   Total Weight in Pounds  Big Fish (LBS)  Avg Water Temp  \n",
       "0                   69.80            4.32            75.2  \n",
       "1                   42.20            5.26            76.8  \n",
       "2                   92.20            4.50            76.8  \n",
       "3                   90.31            4.26            78.5  \n",
       "4                   52.94            5.36            80.4  "
      ]
     },
     "execution_count": 44,
     "metadata": {},
     "output_type": "execute_result"
    }
   ],
   "source": [
    "# View the first 5 rows of data\n",
    "buddy_bass_2020.head()"
   ]
  },
  {
   "cell_type": "markdown",
   "metadata": {},
   "source": [
    ".info() shows information about the columns including data type and number of missing values"
   ]
  },
  {
   "cell_type": "code",
   "execution_count": 45,
   "metadata": {},
   "outputs": [
    {
     "name": "stdout",
     "output_type": "stream",
     "text": [
      "<class 'pandas.core.frame.DataFrame'>\n",
      "RangeIndex: 11 entries, 0 to 10\n",
      "Data columns (total 6 columns):\n",
      " #   Column                   Non-Null Count  Dtype         \n",
      "---  ------                   --------------  -----         \n",
      " 0   Date                     11 non-null     datetime64[ns]\n",
      " 1   Number of Boats          11 non-null     float64       \n",
      " 2   Total No of Fish Caught  11 non-null     float64       \n",
      " 3   Total Weight in Pounds   11 non-null     float64       \n",
      " 4   Big Fish (LBS)           11 non-null     float64       \n",
      " 5   Avg Water Temp           11 non-null     float64       \n",
      "dtypes: datetime64[ns](1), float64(5)\n",
      "memory usage: 656.0 bytes\n"
     ]
    }
   ],
   "source": [
    "# Display information about the columns\n",
    "buddy_bass_2020.info()"
   ]
  },
  {
   "cell_type": "markdown",
   "metadata": {},
   "source": [
    ".shape returns the number of rows and columns"
   ]
  },
  {
   "cell_type": "code",
   "execution_count": 46,
   "metadata": {},
   "outputs": [
    {
     "data": {
      "text/plain": [
       "(11, 6)"
      ]
     },
     "execution_count": 46,
     "metadata": {},
     "output_type": "execute_result"
    }
   ],
   "source": [
    "# Return the number of rows and columns in the data\n",
    "buddy_bass_2020.shape"
   ]
  },
  {
   "cell_type": "markdown",
   "metadata": {},
   "source": [
    ".describe() calculates summary statistics for each column"
   ]
  },
  {
   "cell_type": "code",
   "execution_count": 47,
   "metadata": {},
   "outputs": [
    {
     "data": {
      "text/html": [
       "<div>\n",
       "<style scoped>\n",
       "    .dataframe tbody tr th:only-of-type {\n",
       "        vertical-align: middle;\n",
       "    }\n",
       "\n",
       "    .dataframe tbody tr th {\n",
       "        vertical-align: top;\n",
       "    }\n",
       "\n",
       "    .dataframe thead th {\n",
       "        text-align: right;\n",
       "    }\n",
       "</style>\n",
       "<table border=\"1\" class=\"dataframe\">\n",
       "  <thead>\n",
       "    <tr style=\"text-align: right;\">\n",
       "      <th></th>\n",
       "      <th>Number of Boats</th>\n",
       "      <th>Total No of Fish Caught</th>\n",
       "      <th>Total Weight in Pounds</th>\n",
       "      <th>Big Fish (LBS)</th>\n",
       "      <th>Avg Water Temp</th>\n",
       "    </tr>\n",
       "  </thead>\n",
       "  <tbody>\n",
       "    <tr>\n",
       "      <th>count</th>\n",
       "      <td>11.000000</td>\n",
       "      <td>11.000000</td>\n",
       "      <td>11.000000</td>\n",
       "      <td>11.000000</td>\n",
       "      <td>11.000000</td>\n",
       "    </tr>\n",
       "    <tr>\n",
       "      <th>mean</th>\n",
       "      <td>30.272727</td>\n",
       "      <td>54.272727</td>\n",
       "      <td>67.322727</td>\n",
       "      <td>4.220000</td>\n",
       "      <td>80.518182</td>\n",
       "    </tr>\n",
       "    <tr>\n",
       "      <th>std</th>\n",
       "      <td>3.068906</td>\n",
       "      <td>14.886846</td>\n",
       "      <td>16.734061</td>\n",
       "      <td>1.009911</td>\n",
       "      <td>3.602171</td>\n",
       "    </tr>\n",
       "    <tr>\n",
       "      <th>min</th>\n",
       "      <td>26.000000</td>\n",
       "      <td>33.000000</td>\n",
       "      <td>42.200000</td>\n",
       "      <td>2.340000</td>\n",
       "      <td>75.200000</td>\n",
       "    </tr>\n",
       "    <tr>\n",
       "      <th>25%</th>\n",
       "      <td>28.500000</td>\n",
       "      <td>48.500000</td>\n",
       "      <td>54.160000</td>\n",
       "      <td>3.810000</td>\n",
       "      <td>77.650000</td>\n",
       "    </tr>\n",
       "    <tr>\n",
       "      <th>50%</th>\n",
       "      <td>30.000000</td>\n",
       "      <td>54.000000</td>\n",
       "      <td>68.780000</td>\n",
       "      <td>4.320000</td>\n",
       "      <td>80.400000</td>\n",
       "    </tr>\n",
       "    <tr>\n",
       "      <th>75%</th>\n",
       "      <td>31.500000</td>\n",
       "      <td>59.500000</td>\n",
       "      <td>78.230000</td>\n",
       "      <td>4.880000</td>\n",
       "      <td>83.300000</td>\n",
       "    </tr>\n",
       "    <tr>\n",
       "      <th>max</th>\n",
       "      <td>37.000000</td>\n",
       "      <td>84.000000</td>\n",
       "      <td>92.200000</td>\n",
       "      <td>5.440000</td>\n",
       "      <td>85.300000</td>\n",
       "    </tr>\n",
       "  </tbody>\n",
       "</table>\n",
       "</div>"
      ],
      "text/plain": [
       "       Number of Boats  Total No of Fish Caught  Total Weight in Pounds  \\\n",
       "count        11.000000                11.000000               11.000000   \n",
       "mean         30.272727                54.272727               67.322727   \n",
       "std           3.068906                14.886846               16.734061   \n",
       "min          26.000000                33.000000               42.200000   \n",
       "25%          28.500000                48.500000               54.160000   \n",
       "50%          30.000000                54.000000               68.780000   \n",
       "75%          31.500000                59.500000               78.230000   \n",
       "max          37.000000                84.000000               92.200000   \n",
       "\n",
       "       Big Fish (LBS)  Avg Water Temp  \n",
       "count       11.000000       11.000000  \n",
       "mean         4.220000       80.518182  \n",
       "std          1.009911        3.602171  \n",
       "min          2.340000       75.200000  \n",
       "25%          3.810000       77.650000  \n",
       "50%          4.320000       80.400000  \n",
       "75%          4.880000       83.300000  \n",
       "max          5.440000       85.300000  "
      ]
     },
     "execution_count": 47,
     "metadata": {},
     "output_type": "execute_result"
    }
   ],
   "source": [
    "# Display a summary of statistics calculated for each column\n",
    "buddy_bass_2020.describe()"
   ]
  },
  {
   "cell_type": "markdown",
   "metadata": {},
   "source": [
    ".columns creates an index of the column names"
   ]
  },
  {
   "cell_type": "code",
   "execution_count": 48,
   "metadata": {},
   "outputs": [
    {
     "data": {
      "text/plain": [
       "Index(['Date', 'Number of Boats', 'Total No of Fish Caught',\n",
       "       'Total Weight in Pounds', 'Big Fish (LBS)', 'Avg Water Temp'],\n",
       "      dtype='object')"
      ]
     },
     "execution_count": 48,
     "metadata": {},
     "output_type": "execute_result"
    }
   ],
   "source": [
    "# Creates an index of the column names\n",
    "buddy_bass_2020.columns"
   ]
  },
  {
   "cell_type": "code",
   "execution_count": 49,
   "metadata": {},
   "outputs": [
    {
     "name": "stdout",
     "output_type": "stream",
     "text": [
      "         Date  Number of Boats  Total No of Fish Caught  \\\n",
      "0  2020-06-24             29.0                     49.0   \n",
      "1  2020-07-01             33.0                     61.0   \n",
      "2  2020-07-08             26.0                     50.0   \n",
      "3  2020-07-15             29.0                     54.0   \n",
      "4  2020-07-22             32.0                     48.0   \n",
      "5  2020-07-29             31.0                     56.0   \n",
      "6  2020-08-05             37.0                     71.0   \n",
      "7  2020-08-12             31.0                     33.0   \n",
      "8  2020-08-19             28.0                     58.0   \n",
      "9  2020-08-26             30.0                     33.0   \n",
      "10 2020-09-13             27.0                     84.0   \n",
      "\n",
      "    Total Weight in Pounds  Big Fish (LBS)  Avg Water Temp  \\\n",
      "0                    69.80            4.32            75.2   \n",
      "1                    42.20            5.26            76.8   \n",
      "2                    92.20            4.50            76.8   \n",
      "3                    90.31            4.26            78.5   \n",
      "4                    52.94            5.36            80.4   \n",
      "5                    68.78            3.36            82.0   \n",
      "6                    65.74            5.44            82.0   \n",
      "7                    46.74            2.34            84.6   \n",
      "8                    55.38            4.46            85.3   \n",
      "9                    78.23            2.84            85.3   \n",
      "10                   78.23            4.28            78.8   \n",
      "\n",
      "    Average Fish Weight  \n",
      "0              1.424490  \n",
      "1              0.691803  \n",
      "2              1.844000  \n",
      "3              1.672407  \n",
      "4              1.102917  \n",
      "5              1.228214  \n",
      "6              0.925915  \n",
      "7              1.416364  \n",
      "8              0.954828  \n",
      "9              2.370606  \n",
      "10             0.931310  \n"
     ]
    }
   ],
   "source": [
    "# Create a new column called \"Average Fish Weight\" \n",
    "\n",
    "buddy_bass_2020[\"Average Fish Weight\"] = buddy_bass_2020[\"Total Weight in Pounds\"] / buddy_bass_2020[\"Total No of Fish Caught\"]\n",
    "\n",
    "print(buddy_bass_2020)"
   ]
  },
  {
   "cell_type": "code",
   "execution_count": 50,
   "metadata": {},
   "outputs": [
    {
     "data": {
      "text/html": [
       "<div>\n",
       "<style scoped>\n",
       "    .dataframe tbody tr th:only-of-type {\n",
       "        vertical-align: middle;\n",
       "    }\n",
       "\n",
       "    .dataframe tbody tr th {\n",
       "        vertical-align: top;\n",
       "    }\n",
       "\n",
       "    .dataframe thead th {\n",
       "        text-align: right;\n",
       "    }\n",
       "</style>\n",
       "<table border=\"1\" class=\"dataframe\">\n",
       "  <thead>\n",
       "    <tr style=\"text-align: right;\">\n",
       "      <th></th>\n",
       "      <th>Number of Boats</th>\n",
       "      <th>Total No of Fish Caught</th>\n",
       "    </tr>\n",
       "  </thead>\n",
       "  <tbody>\n",
       "    <tr>\n",
       "      <th>0</th>\n",
       "      <td>29.0</td>\n",
       "      <td>49.0</td>\n",
       "    </tr>\n",
       "    <tr>\n",
       "      <th>1</th>\n",
       "      <td>33.0</td>\n",
       "      <td>61.0</td>\n",
       "    </tr>\n",
       "    <tr>\n",
       "      <th>2</th>\n",
       "      <td>26.0</td>\n",
       "      <td>50.0</td>\n",
       "    </tr>\n",
       "    <tr>\n",
       "      <th>3</th>\n",
       "      <td>29.0</td>\n",
       "      <td>54.0</td>\n",
       "    </tr>\n",
       "    <tr>\n",
       "      <th>4</th>\n",
       "      <td>32.0</td>\n",
       "      <td>48.0</td>\n",
       "    </tr>\n",
       "    <tr>\n",
       "      <th>5</th>\n",
       "      <td>31.0</td>\n",
       "      <td>56.0</td>\n",
       "    </tr>\n",
       "    <tr>\n",
       "      <th>6</th>\n",
       "      <td>37.0</td>\n",
       "      <td>71.0</td>\n",
       "    </tr>\n",
       "    <tr>\n",
       "      <th>7</th>\n",
       "      <td>31.0</td>\n",
       "      <td>33.0</td>\n",
       "    </tr>\n",
       "    <tr>\n",
       "      <th>8</th>\n",
       "      <td>28.0</td>\n",
       "      <td>58.0</td>\n",
       "    </tr>\n",
       "    <tr>\n",
       "      <th>9</th>\n",
       "      <td>30.0</td>\n",
       "      <td>33.0</td>\n",
       "    </tr>\n",
       "    <tr>\n",
       "      <th>10</th>\n",
       "      <td>27.0</td>\n",
       "      <td>84.0</td>\n",
       "    </tr>\n",
       "  </tbody>\n",
       "</table>\n",
       "</div>"
      ],
      "text/plain": [
       "    Number of Boats  Total No of Fish Caught\n",
       "0              29.0                     49.0\n",
       "1              33.0                     61.0\n",
       "2              26.0                     50.0\n",
       "3              29.0                     54.0\n",
       "4              32.0                     48.0\n",
       "5              31.0                     56.0\n",
       "6              37.0                     71.0\n",
       "7              31.0                     33.0\n",
       "8              28.0                     58.0\n",
       "9              30.0                     33.0\n",
       "10             27.0                     84.0"
      ]
     },
     "execution_count": 50,
     "metadata": {},
     "output_type": "execute_result"
    }
   ],
   "source": [
    "buddy_bass_2020[[\"Number of Boats\", \"Total No of Fish Caught\"]]"
   ]
  },
  {
   "cell_type": "code",
   "execution_count": 51,
   "metadata": {},
   "outputs": [
    {
     "data": {
      "text/html": [
       "<div>\n",
       "<style scoped>\n",
       "    .dataframe tbody tr th:only-of-type {\n",
       "        vertical-align: middle;\n",
       "    }\n",
       "\n",
       "    .dataframe tbody tr th {\n",
       "        vertical-align: top;\n",
       "    }\n",
       "\n",
       "    .dataframe thead th {\n",
       "        text-align: right;\n",
       "    }\n",
       "</style>\n",
       "<table border=\"1\" class=\"dataframe\">\n",
       "  <thead>\n",
       "    <tr style=\"text-align: right;\">\n",
       "      <th></th>\n",
       "      <th>Date</th>\n",
       "      <th>Number of Boats</th>\n",
       "      <th>Total No of Fish Caught</th>\n",
       "      <th>Total Weight in Pounds</th>\n",
       "      <th>Big Fish (LBS)</th>\n",
       "      <th>Avg Water Temp</th>\n",
       "      <th>Average Fish Weight</th>\n",
       "    </tr>\n",
       "  </thead>\n",
       "  <tbody>\n",
       "    <tr>\n",
       "      <th>0</th>\n",
       "      <td>2020-06-24</td>\n",
       "      <td>29.0</td>\n",
       "      <td>49.0</td>\n",
       "      <td>69.80</td>\n",
       "      <td>4.32</td>\n",
       "      <td>75.2</td>\n",
       "      <td>1.424490</td>\n",
       "    </tr>\n",
       "    <tr>\n",
       "      <th>2</th>\n",
       "      <td>2020-07-08</td>\n",
       "      <td>26.0</td>\n",
       "      <td>50.0</td>\n",
       "      <td>92.20</td>\n",
       "      <td>4.50</td>\n",
       "      <td>76.8</td>\n",
       "      <td>1.844000</td>\n",
       "    </tr>\n",
       "    <tr>\n",
       "      <th>3</th>\n",
       "      <td>2020-07-15</td>\n",
       "      <td>29.0</td>\n",
       "      <td>54.0</td>\n",
       "      <td>90.31</td>\n",
       "      <td>4.26</td>\n",
       "      <td>78.5</td>\n",
       "      <td>1.672407</td>\n",
       "    </tr>\n",
       "    <tr>\n",
       "      <th>8</th>\n",
       "      <td>2020-08-19</td>\n",
       "      <td>28.0</td>\n",
       "      <td>58.0</td>\n",
       "      <td>55.38</td>\n",
       "      <td>4.46</td>\n",
       "      <td>85.3</td>\n",
       "      <td>0.954828</td>\n",
       "    </tr>\n",
       "    <tr>\n",
       "      <th>10</th>\n",
       "      <td>2020-09-13</td>\n",
       "      <td>27.0</td>\n",
       "      <td>84.0</td>\n",
       "      <td>78.23</td>\n",
       "      <td>4.28</td>\n",
       "      <td>78.8</td>\n",
       "      <td>0.931310</td>\n",
       "    </tr>\n",
       "  </tbody>\n",
       "</table>\n",
       "</div>"
      ],
      "text/plain": [
       "         Date  Number of Boats  Total No of Fish Caught  \\\n",
       "0  2020-06-24             29.0                     49.0   \n",
       "2  2020-07-08             26.0                     50.0   \n",
       "3  2020-07-15             29.0                     54.0   \n",
       "8  2020-08-19             28.0                     58.0   \n",
       "10 2020-09-13             27.0                     84.0   \n",
       "\n",
       "    Total Weight in Pounds  Big Fish (LBS)  Avg Water Temp  \\\n",
       "0                    69.80            4.32            75.2   \n",
       "2                    92.20            4.50            76.8   \n",
       "3                    90.31            4.26            78.5   \n",
       "8                    55.38            4.46            85.3   \n",
       "10                   78.23            4.28            78.8   \n",
       "\n",
       "    Average Fish Weight  \n",
       "0              1.424490  \n",
       "2              1.844000  \n",
       "3              1.672407  \n",
       "8              0.954828  \n",
       "10             0.931310  "
      ]
     },
     "execution_count": 51,
     "metadata": {},
     "output_type": "execute_result"
    }
   ],
   "source": [
    "buddy_bass_2020[buddy_bass_2020[\"Number of Boats\"] < 30]"
   ]
  },
  {
   "cell_type": "code",
   "execution_count": 64,
   "metadata": {},
   "outputs": [
    {
     "name": "stdout",
     "output_type": "stream",
     "text": [
      "         Date  Number of Boats  Total No of Fish Caught  \\\n",
      "0  2020-06-24             29.0                     49.0   \n",
      "1  2020-07-01             33.0                     61.0   \n",
      "2  2020-07-08             26.0                     50.0   \n",
      "3  2020-07-15             29.0                     54.0   \n",
      "4  2020-07-22             32.0                     48.0   \n",
      "5  2020-07-29             31.0                     56.0   \n",
      "6  2020-08-05             37.0                     71.0   \n",
      "7  2020-08-12             31.0                     33.0   \n",
      "8  2020-08-19             28.0                     58.0   \n",
      "9  2020-08-26             30.0                     33.0   \n",
      "10 2020-09-13             27.0                     84.0   \n",
      "\n",
      "    Total Weight in Pounds  Big Fish (LBS)  Avg Water Temp  \\\n",
      "0                    69.80            4.32            75.2   \n",
      "1                    42.20            5.26            76.8   \n",
      "2                    92.20            4.50            76.8   \n",
      "3                    90.31            4.26            78.5   \n",
      "4                    52.94            5.36            80.4   \n",
      "5                    68.78            3.36            82.0   \n",
      "6                    65.74            5.44            82.0   \n",
      "7                    46.74            2.34            84.6   \n",
      "8                    55.38            4.46            85.3   \n",
      "9                    78.23            2.84            85.3   \n",
      "10                   78.23            4.28            78.8   \n",
      "\n",
      "    Average Fish Weight  Month  \n",
      "0              1.424490      6  \n",
      "1              0.691803      7  \n",
      "2              1.844000      7  \n",
      "3              1.672407      7  \n",
      "4              1.102917      7  \n",
      "5              1.228214      7  \n",
      "6              0.925915      8  \n",
      "7              1.416364      8  \n",
      "8              0.954828      8  \n",
      "9              2.370606      8  \n",
      "10             0.931310      9  \n",
      "    Month  Number of Boats\n",
      "0       6             29.0\n",
      "1       7             33.0\n",
      "2       7             26.0\n",
      "3       7             29.0\n",
      "4       7             32.0\n",
      "5       7             31.0\n",
      "6       8             37.0\n",
      "7       8             31.0\n",
      "8       8             28.0\n",
      "9       8             30.0\n",
      "10      9             27.0\n"
     ]
    }
   ],
   "source": [
    "# Add a new column \"Month\" that turns the \"Date\" column into it's month number equivalent\n",
    "buddy_bass_2020[\"Month\"] = buddy_bass_2020[\"Date\"]\\\n",
    "    .dt.month\n",
    "\n",
    "print(buddy_bass_2020)\n"
   ]
  },
  {
   "cell_type": "code",
   "execution_count": 66,
   "metadata": {},
   "outputs": [
    {
     "name": "stdout",
     "output_type": "stream",
     "text": [
      "    Month\n",
      "0       6\n",
      "1       7\n",
      "2       7\n",
      "3       7\n",
      "4       7\n",
      "5       7\n",
      "6       8\n",
      "7       8\n",
      "8       8\n",
      "9       8\n",
      "10      9\n"
     ]
    }
   ],
   "source": [
    "buddy_bass_month = buddy_bass_2020[[\"Month\"]]\n",
    "\n",
    "print(buddy_bass_month)"
   ]
  },
  {
   "cell_type": "code",
   "execution_count": 68,
   "metadata": {},
   "outputs": [
    {
     "name": "stdout",
     "output_type": "stream",
     "text": [
      "['green', 'blue', 'blue', 'blue', 'blue', 'blue', 'purple', 'purple', 'purple', 'purple', 'red']\n"
     ]
    }
   ],
   "source": [
    "# Define an empty list\n",
    "colors = []\n",
    "\n",
    "# Iterate over rows of buddy_bass_month\n",
    "for lab, row in buddy_bass_month.iterrows() :\n",
    "    if row[\"Month\"] == 6 :\n",
    "        colors.append(\"green\")\n",
    "    elif row[\"Month\"] == 7 :\n",
    "        colors.append(\"blue\")\n",
    "    elif row[\"Month\"] == 8 :\n",
    "        colors.append(\"purple\") \n",
    "    else:\n",
    "        colors.append(\"red\")\n",
    "\n",
    "print(colors)    "
   ]
  },
  {
   "cell_type": "code",
   "execution_count": null,
   "metadata": {},
   "outputs": [
    {
     "name": "stdout",
     "output_type": "stream",
     "text": [
      "0\n",
      "Date                        2020-06-24 00:00:00\n",
      "Number of Boats                            29.0\n",
      "Total No. of Fish Caught                   49.0\n",
      "Total Weight in Pounds                     69.8\n",
      "Big Fish (lbs)                             4.32\n",
      "Avg Water Temp                             75.2\n",
      "Name: 0, dtype: object\n",
      "1\n",
      "Date                        2020-07-01 00:00:00\n",
      "Number of Boats                            33.0\n",
      "Total No. of Fish Caught                   61.0\n",
      "Total Weight in Pounds                     42.2\n",
      "Big Fish (lbs)                             5.26\n",
      "Avg Water Temp                             76.8\n",
      "Name: 1, dtype: object\n",
      "2\n",
      "Date                        2020-07-08 00:00:00\n",
      "Number of Boats                            26.0\n",
      "Total No. of Fish Caught                   50.0\n",
      "Total Weight in Pounds                     92.2\n",
      "Big Fish (lbs)                              4.5\n",
      "Avg Water Temp                             76.8\n",
      "Name: 2, dtype: object\n",
      "3\n",
      "Date                        2020-07-15 00:00:00\n",
      "Number of Boats                            29.0\n",
      "Total No. of Fish Caught                   54.0\n",
      "Total Weight in Pounds                    90.31\n",
      "Big Fish (lbs)                             4.26\n",
      "Avg Water Temp                             78.5\n",
      "Name: 3, dtype: object\n",
      "4\n",
      "Date                        2020-07-22 00:00:00\n",
      "Number of Boats                            32.0\n",
      "Total No. of Fish Caught                   48.0\n",
      "Total Weight in Pounds                    52.94\n",
      "Big Fish (lbs)                             5.36\n",
      "Avg Water Temp                             80.4\n",
      "Name: 4, dtype: object\n",
      "5\n",
      "Date                        2020-07-29 00:00:00\n",
      "Number of Boats                            31.0\n",
      "Total No. of Fish Caught                   56.0\n",
      "Total Weight in Pounds                    68.78\n",
      "Big Fish (lbs)                             3.36\n",
      "Avg Water Temp                             82.0\n",
      "Name: 5, dtype: object\n",
      "6\n",
      "Date                        2020-08-05 00:00:00\n",
      "Number of Boats                            37.0\n",
      "Total No. of Fish Caught                   71.0\n",
      "Total Weight in Pounds                    65.74\n",
      "Big Fish (lbs)                             5.44\n",
      "Avg Water Temp                             82.0\n",
      "Name: 6, dtype: object\n",
      "7\n",
      "Date                        2020-08-12 00:00:00\n",
      "Number of Boats                            31.0\n",
      "Total No. of Fish Caught                   33.0\n",
      "Total Weight in Pounds                    46.74\n",
      "Big Fish (lbs)                             2.34\n",
      "Avg Water Temp                             84.6\n",
      "Name: 7, dtype: object\n",
      "8\n",
      "Date                        2020-08-19 00:00:00\n",
      "Number of Boats                            28.0\n",
      "Total No. of Fish Caught                   58.0\n",
      "Total Weight in Pounds                    55.38\n",
      "Big Fish (lbs)                             4.46\n",
      "Avg Water Temp                             85.3\n",
      "Name: 8, dtype: object\n",
      "9\n",
      "Date                        2020-08-26 00:00:00\n",
      "Number of Boats                            30.0\n",
      "Total No. of Fish Caught                   33.0\n",
      "Total Weight in Pounds                    78.23\n",
      "Big Fish (lbs)                             2.84\n",
      "Avg Water Temp                             85.3\n",
      "Name: 9, dtype: object\n",
      "10\n",
      "Date                        2020-09-13 00:00:00\n",
      "Number of Boats                            27.0\n",
      "Total No. of Fish Caught                   84.0\n",
      "Total Weight in Pounds                    78.23\n",
      "Big Fish (lbs)                             4.28\n",
      "Avg Water Temp                             78.8\n",
      "Name: 10, dtype: object\n"
     ]
    }
   ],
   "source": [
    "for lab, row in buddy_bass_2020.iterrows():\n",
    "    print(lab)\n",
    "    print(row)"
   ]
  },
  {
   "cell_type": "code",
   "execution_count": null,
   "metadata": {},
   "outputs": [
    {
     "data": {
      "text/plain": [
       "54.0"
      ]
     },
     "execution_count": 14,
     "metadata": {},
     "output_type": "execute_result"
    }
   ],
   "source": [
    "buddy_bass_2020[\"Total No. of Fish Caught\"].median()"
   ]
  },
  {
   "cell_type": "code",
   "execution_count": null,
   "metadata": {},
   "outputs": [
    {
     "data": {
      "text/plain": [
       "Number of Boats             30.00\n",
       "Total No. of Fish Caught    54.00\n",
       "Total Weight in Pounds      68.78\n",
       "Big Fish (lbs)               4.32\n",
       "dtype: float64"
      ]
     },
     "execution_count": 50,
     "metadata": {},
     "output_type": "execute_result"
    }
   ],
   "source": [
    "buddy_bass_2020[[\"Number of Boats\", \"Total No. of Fish Caught\", \"Total Weight in Pounds\", \"Big Fish (lbs)\"]].median()"
   ]
  },
  {
   "cell_type": "code",
   "execution_count": null,
   "metadata": {},
   "outputs": [
    {
     "data": {
      "text/plain": [
       "Date\n",
       "2020-06-24    29.0\n",
       "2020-07-01    33.0\n",
       "2020-07-08    26.0\n",
       "2020-07-15    29.0\n",
       "2020-07-22    32.0\n",
       "2020-07-29    31.0\n",
       "2020-08-05    37.0\n",
       "2020-08-12    31.0\n",
       "2020-08-19    28.0\n",
       "2020-08-26    30.0\n",
       "2020-09-13    27.0\n",
       "Name: Number of Boats, dtype: float64"
      ]
     },
     "execution_count": 20,
     "metadata": {},
     "output_type": "execute_result"
    }
   ],
   "source": [
    "buddy_bass_2020.groupby(\"Date\")[\"Number of Boats\"].mean()"
   ]
  },
  {
   "cell_type": "code",
   "execution_count": null,
   "metadata": {},
   "outputs": [
    {
     "data": {
      "text/plain": [
       "0    2020\n",
       "1    2020\n",
       "2    2020\n",
       "Name: Date, dtype: int64"
      ]
     },
     "execution_count": 48,
     "metadata": {},
     "output_type": "execute_result"
    }
   ],
   "source": [
    "buddy_bass_2020[\"Date\"]\\\n",
    "    .head(3)\\\n",
    "        .dt.year"
   ]
  },
  {
   "cell_type": "code",
   "execution_count": null,
   "metadata": {},
   "outputs": [
    {
     "data": {
      "text/plain": [
       "0    Wednesday\n",
       "1    Wednesday\n",
       "2    Wednesday\n",
       "3    Wednesday\n",
       "4    Wednesday\n",
       "Name: Date, dtype: object"
      ]
     },
     "execution_count": 27,
     "metadata": {},
     "output_type": "execute_result"
    }
   ],
   "source": [
    "buddy_bass[\"Date\"]\\\n",
    "    .head()\\\n",
    "        .dt.day_name()"
   ]
  },
  {
   "cell_type": "code",
   "execution_count": null,
   "metadata": {},
   "outputs": [
    {
     "name": "stdout",
     "output_type": "stream",
     "text": [
      "0     6\n",
      "1     7\n",
      "2     7\n",
      "3     7\n",
      "4     7\n",
      "5     7\n",
      "6     8\n",
      "7     8\n",
      "8     8\n",
      "9     8\n",
      "10    9\n",
      "Name: Date, dtype: int64\n"
     ]
    }
   ],
   "source": [
    "buddy_bass_month = buddy_bass_2020[\"Date\"]\\\n",
    "    .dt.month\n",
    "\n",
    "print(buddy_bass_month)"
   ]
  },
  {
   "cell_type": "code",
   "execution_count": null,
   "metadata": {},
   "outputs": [
    {
     "data": {
      "image/png": "[encoded data removed]",
      "text/plain": [
       "<Figure size 432x288 with 1 Axes>"
      ]
     },
     "metadata": {
      "needs_background": "light"
     },
     "output_type": "display_data"
    }
   ],
   "source": [
    "plt.plot(buddy_bass)\n",
    "plt.show()"
   ]
  }
 ],
 "metadata": {
  "kernelspec": {
   "display_name": "Python 3.9.7 ('base')",
   "language": "python",
   "name": "python3"
  },
  "language_info": {
   "codemirror_mode": {
    "name": "ipython",
    "version": 3
   },
   "file_extension": ".py",
   "mimetype": "text/x-python",
   "name": "python",
   "nbconvert_exporter": "python",
   "pygments_lexer": "ipython3",
   "version": "3.9.7"
  },
  "orig_nbformat": 4,
  "vscode": {
   "interpreter": {
    "hash": "336eef9849b77f6b0e6305e90cdc738d46520fb9fa12c5786748c59b9e847d10"
   }
  }
 },
 "nbformat": 4,
 "nbformat_minor": 2
}
