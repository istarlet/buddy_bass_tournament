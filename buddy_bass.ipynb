{
 "cells": [
  {
   "cell_type": "markdown",
   "metadata": {},
   "source": [
    "# Buddy Bass Fishing Tournament\n",
    "\n",
    "Dataset:\n",
    "The dataset I'll use is an excel spreadsheet with data collected from the weekly fishing tournament."
   ]
  },
  {
   "cell_type": "markdown",
   "metadata": {},
   "source": []
  },
  {
   "cell_type": "markdown",
   "metadata": {},
   "source": [
    "## Importing the Data\n",
    "\n",
    "This is where I import any needed Python libraries and all datasets I'll use in the notebook."
   ]
  },
  {
   "cell_type": "code",
   "execution_count": 82,
   "metadata": {},
   "outputs": [],
   "source": [
    "# Import libraries\n",
    "from matplotlib import pyplot as plt\n",
    "from datetime import datetime\n",
    "import pandas as pd\n",
    "import numpy as np\n",
    "\n",
    "# Column of dates to parse\n",
    "date_col = [\"Date\"]\n",
    "\n",
    "# Read the Excel file for the year 2020\n",
    "buddy_bass_tournament20 = pd.read_excel(\"data/Buddy Bass Tournament 2020.xlsx\", skiprows = 2, parse_dates = date_col)"
   ]
  },
  {
   "cell_type": "markdown",
   "metadata": {},
   "source": [
    "## Exploring the Data"
   ]
  },
  {
   "cell_type": "code",
   "execution_count": 83,
   "metadata": {},
   "outputs": [
    {
     "data": {
      "text/html": [
       "<div>\n",
       "<style scoped>\n",
       "    .dataframe tbody tr th:only-of-type {\n",
       "        vertical-align: middle;\n",
       "    }\n",
       "\n",
       "    .dataframe tbody tr th {\n",
       "        vertical-align: top;\n",
       "    }\n",
       "\n",
       "    .dataframe thead th {\n",
       "        text-align: right;\n",
       "    }\n",
       "</style>\n",
       "<table border=\"1\" class=\"dataframe\">\n",
       "  <thead>\n",
       "    <tr style=\"text-align: right;\">\n",
       "      <th></th>\n",
       "      <th>Date</th>\n",
       "      <th>Number of Boats</th>\n",
       "      <th>Total No of Fish Caught</th>\n",
       "      <th>Total Weight in Pounds</th>\n",
       "      <th>Big Fish (LBS)</th>\n",
       "      <th>Avg Water Temp</th>\n",
       "      <th>Big Fish/Year (LBS)</th>\n",
       "    </tr>\n",
       "  </thead>\n",
       "  <tbody>\n",
       "    <tr>\n",
       "      <th>0</th>\n",
       "      <td>2020-06-03</td>\n",
       "      <td>25.0</td>\n",
       "      <td>28.0</td>\n",
       "      <td>46.20</td>\n",
       "      <td>4.56</td>\n",
       "      <td>NaN</td>\n",
       "      <td>NaN</td>\n",
       "    </tr>\n",
       "    <tr>\n",
       "      <th>1</th>\n",
       "      <td>2020-06-10</td>\n",
       "      <td>28.0</td>\n",
       "      <td>71.0</td>\n",
       "      <td>105.98</td>\n",
       "      <td>4.80</td>\n",
       "      <td>NaN</td>\n",
       "      <td>NaN</td>\n",
       "    </tr>\n",
       "    <tr>\n",
       "      <th>2</th>\n",
       "      <td>2020-06-24</td>\n",
       "      <td>29.0</td>\n",
       "      <td>49.0</td>\n",
       "      <td>77.00</td>\n",
       "      <td>4.32</td>\n",
       "      <td>75.2</td>\n",
       "      <td>Wieda/Young  5.48  *</td>\n",
       "    </tr>\n",
       "    <tr>\n",
       "      <th>3</th>\n",
       "      <td>2020-07-01</td>\n",
       "      <td>33.0</td>\n",
       "      <td>61.0</td>\n",
       "      <td>83.86</td>\n",
       "      <td>5.26</td>\n",
       "      <td>76.8</td>\n",
       "      <td>\"</td>\n",
       "    </tr>\n",
       "    <tr>\n",
       "      <th>4</th>\n",
       "      <td>2020-07-08</td>\n",
       "      <td>26.0</td>\n",
       "      <td>50.0</td>\n",
       "      <td>74.30</td>\n",
       "      <td>4.50</td>\n",
       "      <td>76.8</td>\n",
       "      <td>\"</td>\n",
       "    </tr>\n",
       "  </tbody>\n",
       "</table>\n",
       "</div>"
      ],
      "text/plain": [
       "        Date  Number of Boats  Total No of Fish Caught  \\\n",
       "0 2020-06-03             25.0                     28.0   \n",
       "1 2020-06-10             28.0                     71.0   \n",
       "2 2020-06-24             29.0                     49.0   \n",
       "3 2020-07-01             33.0                     61.0   \n",
       "4 2020-07-08             26.0                     50.0   \n",
       "\n",
       "   Total Weight in Pounds  Big Fish (LBS)  Avg Water Temp  \\\n",
       "0                   46.20            4.56             NaN   \n",
       "1                  105.98            4.80             NaN   \n",
       "2                   77.00            4.32            75.2   \n",
       "3                   83.86            5.26            76.8   \n",
       "4                   74.30            4.50            76.8   \n",
       "\n",
       "            Big Fish/Year (LBS)  \n",
       "0                           NaN  \n",
       "1                           NaN  \n",
       "2        Wieda/Young  5.48  *    \n",
       "3                             \"  \n",
       "4                             \"  "
      ]
     },
     "execution_count": 83,
     "metadata": {},
     "output_type": "execute_result"
    }
   ],
   "source": [
    "# View the first five rows of data\n",
    "buddy_bass_tournament20.head()"
   ]
  },
  {
   "cell_type": "code",
   "execution_count": 84,
   "metadata": {},
   "outputs": [
    {
     "data": {
      "text/html": [
       "<div>\n",
       "<style scoped>\n",
       "    .dataframe tbody tr th:only-of-type {\n",
       "        vertical-align: middle;\n",
       "    }\n",
       "\n",
       "    .dataframe tbody tr th {\n",
       "        vertical-align: top;\n",
       "    }\n",
       "\n",
       "    .dataframe thead th {\n",
       "        text-align: right;\n",
       "    }\n",
       "</style>\n",
       "<table border=\"1\" class=\"dataframe\">\n",
       "  <thead>\n",
       "    <tr style=\"text-align: right;\">\n",
       "      <th></th>\n",
       "      <th>Date</th>\n",
       "      <th>Number of Boats</th>\n",
       "      <th>Total No of Fish Caught</th>\n",
       "      <th>Total Weight in Pounds</th>\n",
       "      <th>Big Fish (LBS)</th>\n",
       "      <th>Avg Water Temp</th>\n",
       "    </tr>\n",
       "  </thead>\n",
       "  <tbody>\n",
       "    <tr>\n",
       "      <th>0</th>\n",
       "      <td>2020-06-03</td>\n",
       "      <td>25.0</td>\n",
       "      <td>28.0</td>\n",
       "      <td>46.20</td>\n",
       "      <td>4.56</td>\n",
       "      <td>NaN</td>\n",
       "    </tr>\n",
       "    <tr>\n",
       "      <th>1</th>\n",
       "      <td>2020-06-10</td>\n",
       "      <td>28.0</td>\n",
       "      <td>71.0</td>\n",
       "      <td>105.98</td>\n",
       "      <td>4.80</td>\n",
       "      <td>NaN</td>\n",
       "    </tr>\n",
       "    <tr>\n",
       "      <th>2</th>\n",
       "      <td>2020-06-24</td>\n",
       "      <td>29.0</td>\n",
       "      <td>49.0</td>\n",
       "      <td>77.00</td>\n",
       "      <td>4.32</td>\n",
       "      <td>75.2</td>\n",
       "    </tr>\n",
       "    <tr>\n",
       "      <th>3</th>\n",
       "      <td>2020-07-01</td>\n",
       "      <td>33.0</td>\n",
       "      <td>61.0</td>\n",
       "      <td>83.86</td>\n",
       "      <td>5.26</td>\n",
       "      <td>76.8</td>\n",
       "    </tr>\n",
       "    <tr>\n",
       "      <th>4</th>\n",
       "      <td>2020-07-08</td>\n",
       "      <td>26.0</td>\n",
       "      <td>50.0</td>\n",
       "      <td>74.30</td>\n",
       "      <td>4.50</td>\n",
       "      <td>76.8</td>\n",
       "    </tr>\n",
       "  </tbody>\n",
       "</table>\n",
       "</div>"
      ],
      "text/plain": [
       "        Date  Number of Boats  Total No of Fish Caught  \\\n",
       "0 2020-06-03             25.0                     28.0   \n",
       "1 2020-06-10             28.0                     71.0   \n",
       "2 2020-06-24             29.0                     49.0   \n",
       "3 2020-07-01             33.0                     61.0   \n",
       "4 2020-07-08             26.0                     50.0   \n",
       "\n",
       "   Total Weight in Pounds  Big Fish (LBS)  Avg Water Temp  \n",
       "0                   46.20            4.56             NaN  \n",
       "1                  105.98            4.80             NaN  \n",
       "2                   77.00            4.32            75.2  \n",
       "3                   83.86            5.26            76.8  \n",
       "4                   74.30            4.50            76.8  "
      ]
     },
     "execution_count": 84,
     "metadata": {},
     "output_type": "execute_result"
    }
   ],
   "source": [
    "# Drop the \"Big Fish/Year (LBS)\" column and set the df to buddy_bass_2020 variable\n",
    "buddy_bass_2020 = buddy_bass_tournament20.drop(columns=['Big Fish/Year (LBS)'])\n",
    "\n",
    "# View first five rows of data to confirm that column is gone\n",
    "buddy_bass_2020.head()"
   ]
  },
  {
   "cell_type": "markdown",
   "metadata": {},
   "source": [
    ".info() shows information about the columns including data type and number of missing values"
   ]
  },
  {
   "cell_type": "code",
   "execution_count": 85,
   "metadata": {},
   "outputs": [
    {
     "name": "stdout",
     "output_type": "stream",
     "text": [
      "<class 'pandas.core.frame.DataFrame'>\n",
      "RangeIndex: 13 entries, 0 to 12\n",
      "Data columns (total 6 columns):\n",
      " #   Column                   Non-Null Count  Dtype         \n",
      "---  ------                   --------------  -----         \n",
      " 0   Date                     13 non-null     datetime64[ns]\n",
      " 1   Number of Boats          13 non-null     float64       \n",
      " 2   Total No of Fish Caught  13 non-null     float64       \n",
      " 3   Total Weight in Pounds   13 non-null     float64       \n",
      " 4   Big Fish (LBS)           13 non-null     float64       \n",
      " 5   Avg Water Temp           11 non-null     float64       \n",
      "dtypes: datetime64[ns](1), float64(5)\n",
      "memory usage: 752.0 bytes\n"
     ]
    }
   ],
   "source": [
    "# Display information about the columns\n",
    "buddy_bass_2020.info()"
   ]
  },
  {
   "cell_type": "code",
   "execution_count": 86,
   "metadata": {},
   "outputs": [
    {
     "data": {
      "text/plain": [
       "(13, 6)"
      ]
     },
     "execution_count": 86,
     "metadata": {},
     "output_type": "execute_result"
    }
   ],
   "source": [
    "# Return the number of rows and columns in the data\n",
    "buddy_bass_2020.shape"
   ]
  },
  {
   "cell_type": "markdown",
   "metadata": {},
   "source": [
    ".describe() calculates summary statistics for each column"
   ]
  },
  {
   "cell_type": "code",
   "execution_count": 87,
   "metadata": {},
   "outputs": [
    {
     "data": {
      "text/html": [
       "<div>\n",
       "<style scoped>\n",
       "    .dataframe tbody tr th:only-of-type {\n",
       "        vertical-align: middle;\n",
       "    }\n",
       "\n",
       "    .dataframe tbody tr th {\n",
       "        vertical-align: top;\n",
       "    }\n",
       "\n",
       "    .dataframe thead th {\n",
       "        text-align: right;\n",
       "    }\n",
       "</style>\n",
       "<table border=\"1\" class=\"dataframe\">\n",
       "  <thead>\n",
       "    <tr style=\"text-align: right;\">\n",
       "      <th></th>\n",
       "      <th>Number of Boats</th>\n",
       "      <th>Total No of Fish Caught</th>\n",
       "      <th>Total Weight in Pounds</th>\n",
       "      <th>Big Fish (LBS)</th>\n",
       "      <th>Avg Water Temp</th>\n",
       "    </tr>\n",
       "  </thead>\n",
       "  <tbody>\n",
       "    <tr>\n",
       "      <th>count</th>\n",
       "      <td>13.000000</td>\n",
       "      <td>13.000000</td>\n",
       "      <td>13.000000</td>\n",
       "      <td>13.000000</td>\n",
       "      <td>11.000000</td>\n",
       "    </tr>\n",
       "    <tr>\n",
       "      <th>mean</th>\n",
       "      <td>29.692308</td>\n",
       "      <td>53.538462</td>\n",
       "      <td>75.713846</td>\n",
       "      <td>4.290769</td>\n",
       "      <td>80.518182</td>\n",
       "    </tr>\n",
       "    <tr>\n",
       "      <th>std</th>\n",
       "      <td>3.198557</td>\n",
       "      <td>16.276852</td>\n",
       "      <td>24.735615</td>\n",
       "      <td>0.939241</td>\n",
       "      <td>3.602171</td>\n",
       "    </tr>\n",
       "    <tr>\n",
       "      <th>min</th>\n",
       "      <td>25.000000</td>\n",
       "      <td>28.000000</td>\n",
       "      <td>41.400000</td>\n",
       "      <td>2.340000</td>\n",
       "      <td>75.200000</td>\n",
       "    </tr>\n",
       "    <tr>\n",
       "      <th>25%</th>\n",
       "      <td>28.000000</td>\n",
       "      <td>48.000000</td>\n",
       "      <td>58.490000</td>\n",
       "      <td>4.260000</td>\n",
       "      <td>77.650000</td>\n",
       "    </tr>\n",
       "    <tr>\n",
       "      <th>50%</th>\n",
       "      <td>29.000000</td>\n",
       "      <td>54.000000</td>\n",
       "      <td>75.420000</td>\n",
       "      <td>4.460000</td>\n",
       "      <td>80.400000</td>\n",
       "    </tr>\n",
       "    <tr>\n",
       "      <th>75%</th>\n",
       "      <td>31.000000</td>\n",
       "      <td>61.000000</td>\n",
       "      <td>83.860000</td>\n",
       "      <td>4.800000</td>\n",
       "      <td>83.300000</td>\n",
       "    </tr>\n",
       "    <tr>\n",
       "      <th>max</th>\n",
       "      <td>37.000000</td>\n",
       "      <td>84.000000</td>\n",
       "      <td>125.420000</td>\n",
       "      <td>5.440000</td>\n",
       "      <td>85.300000</td>\n",
       "    </tr>\n",
       "  </tbody>\n",
       "</table>\n",
       "</div>"
      ],
      "text/plain": [
       "       Number of Boats  Total No of Fish Caught  Total Weight in Pounds  \\\n",
       "count        13.000000                13.000000               13.000000   \n",
       "mean         29.692308                53.538462               75.713846   \n",
       "std           3.198557                16.276852               24.735615   \n",
       "min          25.000000                28.000000               41.400000   \n",
       "25%          28.000000                48.000000               58.490000   \n",
       "50%          29.000000                54.000000               75.420000   \n",
       "75%          31.000000                61.000000               83.860000   \n",
       "max          37.000000                84.000000              125.420000   \n",
       "\n",
       "       Big Fish (LBS)  Avg Water Temp  \n",
       "count       13.000000       11.000000  \n",
       "mean         4.290769       80.518182  \n",
       "std          0.939241        3.602171  \n",
       "min          2.340000       75.200000  \n",
       "25%          4.260000       77.650000  \n",
       "50%          4.460000       80.400000  \n",
       "75%          4.800000       83.300000  \n",
       "max          5.440000       85.300000  "
      ]
     },
     "execution_count": 87,
     "metadata": {},
     "output_type": "execute_result"
    }
   ],
   "source": [
    "# Display a summary of statistics calculated for each column\n",
    "buddy_bass_2020.describe()"
   ]
  },
  {
   "cell_type": "markdown",
   "metadata": {},
   "source": [
    ".columns creates an index of the column names"
   ]
  },
  {
   "cell_type": "code",
   "execution_count": 88,
   "metadata": {},
   "outputs": [
    {
     "data": {
      "text/plain": [
       "Index(['Date', 'Number of Boats', 'Total No of Fish Caught',\n",
       "       'Total Weight in Pounds', 'Big Fish (LBS)', 'Avg Water Temp'],\n",
       "      dtype='object')"
      ]
     },
     "execution_count": 88,
     "metadata": {},
     "output_type": "execute_result"
    }
   ],
   "source": [
    "# Creates an index of the column names\n",
    "buddy_bass_2020.columns"
   ]
  },
  {
   "cell_type": "code",
   "execution_count": 95,
   "metadata": {},
   "outputs": [
    {
     "name": "stdout",
     "output_type": "stream",
     "text": [
      "        Date  Number of Boats  Total No of Fish Caught  \\\n",
      "0 2020-06-03             25.0                     28.0   \n",
      "1 2020-06-10             28.0                     71.0   \n",
      "2 2020-06-24             29.0                     49.0   \n",
      "3 2020-07-01             33.0                     61.0   \n",
      "4 2020-07-08             26.0                     50.0   \n",
      "\n",
      "   Total Weight in Pounds  Big Fish (LBS)  Avg Water Temp  Average Fish Weight  \n",
      "0                   46.20            4.56             NaN             1.650000  \n",
      "1                  105.98            4.80             NaN             1.492676  \n",
      "2                   77.00            4.32            75.2             1.571429  \n",
      "3                   83.86            5.26            76.8             1.374754  \n",
      "4                   74.30            4.50            76.8             1.486000  \n"
     ]
    }
   ],
   "source": [
    "# Create a new column called \"Average Fish Weight\" \n",
    "buddy_bass_2020[\"Average Fish Weight\"] = buddy_bass_2020[\"Total Weight in Pounds\"] / buddy_bass_2020[\"Total No of Fish Caught\"]\n",
    "\n",
    "print(buddy_bass_2020.head())"
   ]
  },
  {
   "cell_type": "code",
   "execution_count": 91,
   "metadata": {},
   "outputs": [
    {
     "data": {
      "text/html": [
       "<div>\n",
       "<style scoped>\n",
       "    .dataframe tbody tr th:only-of-type {\n",
       "        vertical-align: middle;\n",
       "    }\n",
       "\n",
       "    .dataframe tbody tr th {\n",
       "        vertical-align: top;\n",
       "    }\n",
       "\n",
       "    .dataframe thead th {\n",
       "        text-align: right;\n",
       "    }\n",
       "</style>\n",
       "<table border=\"1\" class=\"dataframe\">\n",
       "  <thead>\n",
       "    <tr style=\"text-align: right;\">\n",
       "      <th></th>\n",
       "      <th>Number of Boats</th>\n",
       "      <th>Total No of Fish Caught</th>\n",
       "    </tr>\n",
       "  </thead>\n",
       "  <tbody>\n",
       "    <tr>\n",
       "      <th>0</th>\n",
       "      <td>25.0</td>\n",
       "      <td>28.0</td>\n",
       "    </tr>\n",
       "    <tr>\n",
       "      <th>1</th>\n",
       "      <td>28.0</td>\n",
       "      <td>71.0</td>\n",
       "    </tr>\n",
       "    <tr>\n",
       "      <th>2</th>\n",
       "      <td>29.0</td>\n",
       "      <td>49.0</td>\n",
       "    </tr>\n",
       "    <tr>\n",
       "      <th>3</th>\n",
       "      <td>33.0</td>\n",
       "      <td>61.0</td>\n",
       "    </tr>\n",
       "    <tr>\n",
       "      <th>4</th>\n",
       "      <td>26.0</td>\n",
       "      <td>50.0</td>\n",
       "    </tr>\n",
       "    <tr>\n",
       "      <th>5</th>\n",
       "      <td>29.0</td>\n",
       "      <td>54.0</td>\n",
       "    </tr>\n",
       "    <tr>\n",
       "      <th>6</th>\n",
       "      <td>32.0</td>\n",
       "      <td>48.0</td>\n",
       "    </tr>\n",
       "    <tr>\n",
       "      <th>7</th>\n",
       "      <td>31.0</td>\n",
       "      <td>56.0</td>\n",
       "    </tr>\n",
       "    <tr>\n",
       "      <th>8</th>\n",
       "      <td>37.0</td>\n",
       "      <td>71.0</td>\n",
       "    </tr>\n",
       "    <tr>\n",
       "      <th>9</th>\n",
       "      <td>31.0</td>\n",
       "      <td>33.0</td>\n",
       "    </tr>\n",
       "    <tr>\n",
       "      <th>10</th>\n",
       "      <td>28.0</td>\n",
       "      <td>58.0</td>\n",
       "    </tr>\n",
       "    <tr>\n",
       "      <th>11</th>\n",
       "      <td>30.0</td>\n",
       "      <td>33.0</td>\n",
       "    </tr>\n",
       "    <tr>\n",
       "      <th>12</th>\n",
       "      <td>27.0</td>\n",
       "      <td>84.0</td>\n",
       "    </tr>\n",
       "  </tbody>\n",
       "</table>\n",
       "</div>"
      ],
      "text/plain": [
       "    Number of Boats  Total No of Fish Caught\n",
       "0              25.0                     28.0\n",
       "1              28.0                     71.0\n",
       "2              29.0                     49.0\n",
       "3              33.0                     61.0\n",
       "4              26.0                     50.0\n",
       "5              29.0                     54.0\n",
       "6              32.0                     48.0\n",
       "7              31.0                     56.0\n",
       "8              37.0                     71.0\n",
       "9              31.0                     33.0\n",
       "10             28.0                     58.0\n",
       "11             30.0                     33.0\n",
       "12             27.0                     84.0"
      ]
     },
     "execution_count": 91,
     "metadata": {},
     "output_type": "execute_result"
    }
   ],
   "source": [
    "buddy_bass_2020[[\"Number of Boats\", \"Total No of Fish Caught\"]]"
   ]
  },
  {
   "cell_type": "code",
   "execution_count": 96,
   "metadata": {},
   "outputs": [
    {
     "data": {
      "text/html": [
       "<div>\n",
       "<style scoped>\n",
       "    .dataframe tbody tr th:only-of-type {\n",
       "        vertical-align: middle;\n",
       "    }\n",
       "\n",
       "    .dataframe tbody tr th {\n",
       "        vertical-align: top;\n",
       "    }\n",
       "\n",
       "    .dataframe thead th {\n",
       "        text-align: right;\n",
       "    }\n",
       "</style>\n",
       "<table border=\"1\" class=\"dataframe\">\n",
       "  <thead>\n",
       "    <tr style=\"text-align: right;\">\n",
       "      <th></th>\n",
       "      <th>Date</th>\n",
       "      <th>Number of Boats</th>\n",
       "      <th>Total No of Fish Caught</th>\n",
       "      <th>Total Weight in Pounds</th>\n",
       "      <th>Big Fish (LBS)</th>\n",
       "      <th>Avg Water Temp</th>\n",
       "      <th>Average Fish Weight</th>\n",
       "    </tr>\n",
       "  </thead>\n",
       "  <tbody>\n",
       "    <tr>\n",
       "      <th>0</th>\n",
       "      <td>2020-06-03</td>\n",
       "      <td>25.0</td>\n",
       "      <td>28.0</td>\n",
       "      <td>46.20</td>\n",
       "      <td>4.56</td>\n",
       "      <td>NaN</td>\n",
       "      <td>1.650000</td>\n",
       "    </tr>\n",
       "    <tr>\n",
       "      <th>1</th>\n",
       "      <td>2020-06-10</td>\n",
       "      <td>28.0</td>\n",
       "      <td>71.0</td>\n",
       "      <td>105.98</td>\n",
       "      <td>4.80</td>\n",
       "      <td>NaN</td>\n",
       "      <td>1.492676</td>\n",
       "    </tr>\n",
       "    <tr>\n",
       "      <th>2</th>\n",
       "      <td>2020-06-24</td>\n",
       "      <td>29.0</td>\n",
       "      <td>49.0</td>\n",
       "      <td>77.00</td>\n",
       "      <td>4.32</td>\n",
       "      <td>75.2</td>\n",
       "      <td>1.571429</td>\n",
       "    </tr>\n",
       "    <tr>\n",
       "      <th>4</th>\n",
       "      <td>2020-07-08</td>\n",
       "      <td>26.0</td>\n",
       "      <td>50.0</td>\n",
       "      <td>74.30</td>\n",
       "      <td>4.50</td>\n",
       "      <td>76.8</td>\n",
       "      <td>1.486000</td>\n",
       "    </tr>\n",
       "    <tr>\n",
       "      <th>5</th>\n",
       "      <td>2020-07-15</td>\n",
       "      <td>29.0</td>\n",
       "      <td>54.0</td>\n",
       "      <td>68.27</td>\n",
       "      <td>4.26</td>\n",
       "      <td>78.5</td>\n",
       "      <td>1.264259</td>\n",
       "    </tr>\n",
       "    <tr>\n",
       "      <th>10</th>\n",
       "      <td>2020-08-19</td>\n",
       "      <td>28.0</td>\n",
       "      <td>58.0</td>\n",
       "      <td>75.42</td>\n",
       "      <td>4.46</td>\n",
       "      <td>85.3</td>\n",
       "      <td>1.300345</td>\n",
       "    </tr>\n",
       "    <tr>\n",
       "      <th>12</th>\n",
       "      <td>2020-09-13</td>\n",
       "      <td>27.0</td>\n",
       "      <td>84.0</td>\n",
       "      <td>125.42</td>\n",
       "      <td>4.28</td>\n",
       "      <td>78.8</td>\n",
       "      <td>1.493095</td>\n",
       "    </tr>\n",
       "  </tbody>\n",
       "</table>\n",
       "</div>"
      ],
      "text/plain": [
       "         Date  Number of Boats  Total No of Fish Caught  \\\n",
       "0  2020-06-03             25.0                     28.0   \n",
       "1  2020-06-10             28.0                     71.0   \n",
       "2  2020-06-24             29.0                     49.0   \n",
       "4  2020-07-08             26.0                     50.0   \n",
       "5  2020-07-15             29.0                     54.0   \n",
       "10 2020-08-19             28.0                     58.0   \n",
       "12 2020-09-13             27.0                     84.0   \n",
       "\n",
       "    Total Weight in Pounds  Big Fish (LBS)  Avg Water Temp  \\\n",
       "0                    46.20            4.56             NaN   \n",
       "1                   105.98            4.80             NaN   \n",
       "2                    77.00            4.32            75.2   \n",
       "4                    74.30            4.50            76.8   \n",
       "5                    68.27            4.26            78.5   \n",
       "10                   75.42            4.46            85.3   \n",
       "12                  125.42            4.28            78.8   \n",
       "\n",
       "    Average Fish Weight  \n",
       "0              1.650000  \n",
       "1              1.492676  \n",
       "2              1.571429  \n",
       "4              1.486000  \n",
       "5              1.264259  \n",
       "10             1.300345  \n",
       "12             1.493095  "
      ]
     },
     "execution_count": 96,
     "metadata": {},
     "output_type": "execute_result"
    }
   ],
   "source": [
    "buddy_bass_2020[buddy_bass_2020[\"Number of Boats\"] < 30]"
   ]
  },
  {
   "cell_type": "code",
   "execution_count": 97,
   "metadata": {},
   "outputs": [
    {
     "name": "stdout",
     "output_type": "stream",
     "text": [
      "        Date  Number of Boats  Total No of Fish Caught  \\\n",
      "0 2020-06-03             25.0                     28.0   \n",
      "1 2020-06-10             28.0                     71.0   \n",
      "2 2020-06-24             29.0                     49.0   \n",
      "3 2020-07-01             33.0                     61.0   \n",
      "4 2020-07-08             26.0                     50.0   \n",
      "\n",
      "   Total Weight in Pounds  Big Fish (LBS)  Avg Water Temp  \\\n",
      "0                   46.20            4.56             NaN   \n",
      "1                  105.98            4.80             NaN   \n",
      "2                   77.00            4.32            75.2   \n",
      "3                   83.86            5.26            76.8   \n",
      "4                   74.30            4.50            76.8   \n",
      "\n",
      "   Average Fish Weight  Month  \n",
      "0             1.650000      6  \n",
      "1             1.492676      6  \n",
      "2             1.571429      6  \n",
      "3             1.374754      7  \n",
      "4             1.486000      7  \n"
     ]
    }
   ],
   "source": [
    "# Add a new column \"Month\" that turns the \"Date\" column into it's month number equivalent\n",
    "buddy_bass_2020[\"Month\"] = buddy_bass_2020[\"Date\"]\\\n",
    "    .dt.month\n",
    "\n",
    "print(buddy_bass_2020.head())\n"
   ]
  },
  {
   "cell_type": "code",
   "execution_count": 99,
   "metadata": {},
   "outputs": [
    {
     "name": "stdout",
     "output_type": "stream",
     "text": [
      "    Month\n",
      "0       6\n",
      "1       6\n",
      "2       6\n",
      "3       7\n",
      "4       7\n",
      "5       7\n",
      "6       7\n",
      "7       7\n",
      "8       8\n",
      "9       8\n",
      "10      8\n",
      "11      8\n",
      "12      9\n"
     ]
    }
   ],
   "source": [
    "buddy_bass_month = buddy_bass_2020[[\"Month\"]]\n",
    "\n",
    "print(buddy_bass_month)"
   ]
  },
  {
   "cell_type": "code",
   "execution_count": null,
   "metadata": {},
   "outputs": [
    {
     "name": "stdout",
     "output_type": "stream",
     "text": [
      "['green', 'green', 'green', 'blue', 'blue', 'blue', 'blue', 'blue', 'purple', 'purple', 'purple', 'purple', 'red']\n"
     ]
    }
   ],
   "source": [
    "# Define an empty list\n",
    "colors = []\n",
    "\n",
    "# Iterate over rows of buddy_bass_month\n",
    "for lab, row in buddy_bass_month.iterrows() :\n",
    "    if row[\"Month\"] == 6 :\n",
    "        colors.append(\"green\")\n",
    "    elif row[\"Month\"] == 7 :\n",
    "        colors.append(\"blue\")\n",
    "    elif row[\"Month\"] == 8 :\n",
    "        colors.append(\"purple\") \n",
    "    else:\n",
    "        colors.append(\"red\")\n",
    "\n",
    "print(colors)    "
   ]
  },
  {
   "cell_type": "code",
   "execution_count": 92,
   "metadata": {},
   "outputs": [
    {
     "data": {
      "text/plain": [
       "54.0"
      ]
     },
     "execution_count": 92,
     "metadata": {},
     "output_type": "execute_result"
    }
   ],
   "source": [
    "buddy_bass_2020[\"Total No of Fish Caught\"].median()"
   ]
  },
  {
   "cell_type": "code",
   "execution_count": 94,
   "metadata": {},
   "outputs": [
    {
     "data": {
      "text/plain": [
       "Date\n",
       "2020-06-03    25.0\n",
       "2020-06-10    28.0\n",
       "2020-06-24    29.0\n",
       "2020-07-01    33.0\n",
       "2020-07-08    26.0\n",
       "2020-07-15    29.0\n",
       "2020-07-22    32.0\n",
       "2020-07-29    31.0\n",
       "2020-08-05    37.0\n",
       "2020-08-12    31.0\n",
       "2020-08-19    28.0\n",
       "2020-08-26    30.0\n",
       "2020-09-13    27.0\n",
       "Name: Number of Boats, dtype: float64"
      ]
     },
     "execution_count": 94,
     "metadata": {},
     "output_type": "execute_result"
    }
   ],
   "source": [
    "buddy_bass_2020.groupby(\"Date\")[\"Number of Boats\"].mean()"
   ]
  },
  {
   "cell_type": "code",
   "execution_count": null,
   "metadata": {},
   "outputs": [
    {
     "data": {
      "text/plain": [
       "0    2020\n",
       "1    2020\n",
       "2    2020\n",
       "Name: Date, dtype: int64"
      ]
     },
     "execution_count": 48,
     "metadata": {},
     "output_type": "execute_result"
    }
   ],
   "source": [
    "buddy_bass_2020[\"Date\"]\\\n",
    "    .head(3)\\\n",
    "        .dt.year"
   ]
  },
  {
   "cell_type": "code",
   "execution_count": null,
   "metadata": {},
   "outputs": [
    {
     "data": {
      "text/plain": [
       "0    Wednesday\n",
       "1    Wednesday\n",
       "2    Wednesday\n",
       "3    Wednesday\n",
       "4    Wednesday\n",
       "Name: Date, dtype: object"
      ]
     },
     "execution_count": 27,
     "metadata": {},
     "output_type": "execute_result"
    }
   ],
   "source": [
    "buddy_bass[\"Date\"]\\\n",
    "    .head()\\\n",
    "        .dt.day_name()"
   ]
  },
  {
   "cell_type": "code",
   "execution_count": null,
   "metadata": {},
   "outputs": [
    {
     "data": {
      "image/png": "[encoded data removed]",
      "text/plain": [
       "<Figure size 432x288 with 1 Axes>"
      ]
     },
     "metadata": {
      "needs_background": "light"
     },
     "output_type": "display_data"
    }
   ],
   "source": [
    "plt.plot(buddy_bass_2020)\n",
    "plt.show()"
   ]
  }
 ],
 "metadata": {
  "kernelspec": {
   "display_name": "Python 3.9.7 ('base')",
   "language": "python",
   "name": "python3"
  },
  "language_info": {
   "codemirror_mode": {
    "name": "ipython",
    "version": 3
   },
   "file_extension": ".py",
   "mimetype": "text/x-python",
   "name": "python",
   "nbconvert_exporter": "python",
   "pygments_lexer": "ipython3",
   "version": "3.9.7"
  },
  "orig_nbformat": 4,
  "vscode": {
   "interpreter": {
    "hash": "336eef9849b77f6b0e6305e90cdc738d46520fb9fa12c5786748c59b9e847d10"
   }
  }
 },
 "nbformat": 4,
 "nbformat_minor": 2
}
