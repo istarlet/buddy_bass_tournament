{
 "cells": [
  {
   "cell_type": "code",
   "execution_count": 5,
   "metadata": {},
   "outputs": [],
   "source": [
    "import pandas as pd\n",
    "buddy_bass = pd.read_excel(\"data/Final Bass Tournament Totals 2019.xlsx\")"
   ]
  },
  {
   "cell_type": "code",
   "execution_count": 4,
   "metadata": {},
   "outputs": [
    {
     "data": {
      "text/html": [
       "<div>\n",
       "<style scoped>\n",
       "    .dataframe tbody tr th:only-of-type {\n",
       "        vertical-align: middle;\n",
       "    }\n",
       "\n",
       "    .dataframe tbody tr th {\n",
       "        vertical-align: top;\n",
       "    }\n",
       "\n",
       "    .dataframe thead th {\n",
       "        text-align: right;\n",
       "    }\n",
       "</style>\n",
       "<table border=\"1\" class=\"dataframe\">\n",
       "  <thead>\n",
       "    <tr style=\"text-align: right;\">\n",
       "      <th></th>\n",
       "      <th>Bass Tournament Totals 2019</th>\n",
       "      <th>Unnamed: 1</th>\n",
       "      <th>Unnamed: 2</th>\n",
       "      <th>Unnamed: 3</th>\n",
       "      <th>Unnamed: 4</th>\n",
       "      <th>Unnamed: 5</th>\n",
       "    </tr>\n",
       "  </thead>\n",
       "  <tbody>\n",
       "    <tr>\n",
       "      <th>0</th>\n",
       "      <td>NaN</td>\n",
       "      <td>NaN</td>\n",
       "      <td>NaN</td>\n",
       "      <td>NaN</td>\n",
       "      <td>NaN</td>\n",
       "      <td>NaN</td>\n",
       "    </tr>\n",
       "    <tr>\n",
       "      <th>1</th>\n",
       "      <td>Date</td>\n",
       "      <td>Total No of                 Fish Caught</td>\n",
       "      <td>Total Weight         in Pounds</td>\n",
       "      <td>Average Weight (LBS)</td>\n",
       "      <td>Big Fish         (LBS)</td>\n",
       "      <td>Big Fish/Year (LBS)</td>\n",
       "    </tr>\n",
       "    <tr>\n",
       "      <th>2</th>\n",
       "      <td>2020-04-17 00:00:00</td>\n",
       "      <td>25</td>\n",
       "      <td>53.3</td>\n",
       "      <td>2.132</td>\n",
       "      <td>5.6</td>\n",
       "      <td>Wieda/Bayliche</td>\n",
       "    </tr>\n",
       "    <tr>\n",
       "      <th>3</th>\n",
       "      <td>2020-04-24 00:00:00</td>\n",
       "      <td>22</td>\n",
       "      <td>35.36</td>\n",
       "      <td>1.607273</td>\n",
       "      <td>5.14</td>\n",
       "      <td>NaN</td>\n",
       "    </tr>\n",
       "    <tr>\n",
       "      <th>4</th>\n",
       "      <td>2020-05-01 00:00:00</td>\n",
       "      <td>39</td>\n",
       "      <td>69.8</td>\n",
       "      <td>1.789744</td>\n",
       "      <td>5.56</td>\n",
       "      <td>NaN</td>\n",
       "    </tr>\n",
       "  </tbody>\n",
       "</table>\n",
       "</div>"
      ],
      "text/plain": [
       "  Bass Tournament Totals 2019                               Unnamed: 1  \\\n",
       "0                         NaN                                      NaN   \n",
       "1                        Date  Total No of                 Fish Caught   \n",
       "2         2020-04-17 00:00:00                                       25   \n",
       "3         2020-04-24 00:00:00                                       22   \n",
       "4         2020-05-01 00:00:00                                       39   \n",
       "\n",
       "                       Unnamed: 2            Unnamed: 3  \\\n",
       "0                             NaN                   NaN   \n",
       "1  Total Weight         in Pounds  Average Weight (LBS)   \n",
       "2                            53.3                 2.132   \n",
       "3                           35.36              1.607273   \n",
       "4                            69.8              1.789744   \n",
       "\n",
       "               Unnamed: 4           Unnamed: 5  \n",
       "0                     NaN                  NaN  \n",
       "1  Big Fish         (LBS)  Big Fish/Year (LBS)  \n",
       "2                     5.6       Wieda/Bayliche  \n",
       "3                    5.14                  NaN  \n",
       "4                    5.56                  NaN  "
      ]
     },
     "execution_count": 4,
     "metadata": {},
     "output_type": "execute_result"
    }
   ],
   "source": [
    "buddy_bass.head()"
   ]
  },
  {
   "cell_type": "code",
   "execution_count": 6,
   "metadata": {},
   "outputs": [
    {
     "name": "stdout",
     "output_type": "stream",
     "text": [
      "<class 'pandas.core.frame.DataFrame'>\n",
      "RangeIndex: 26 entries, 0 to 25\n",
      "Data columns (total 6 columns):\n",
      " #   Column                       Non-Null Count  Dtype \n",
      "---  ------                       --------------  ----- \n",
      " 0   Bass Tournament Totals 2019  23 non-null     object\n",
      " 1   Unnamed: 1                   21 non-null     object\n",
      " 2   Unnamed: 2                   21 non-null     object\n",
      " 3   Unnamed: 3                   21 non-null     object\n",
      " 4   Unnamed: 4                   22 non-null     object\n",
      " 5   Unnamed: 5                   2 non-null      object\n",
      "dtypes: object(6)\n",
      "memory usage: 1.3+ KB\n"
     ]
    }
   ],
   "source": [
    "buddy_bass.info()"
   ]
  }
 ],
 "metadata": {
  "kernelspec": {
   "display_name": "Python 3.9.7 ('base')",
   "language": "python",
   "name": "python3"
  },
  "language_info": {
   "codemirror_mode": {
    "name": "ipython",
    "version": 3
   },
   "file_extension": ".py",
   "mimetype": "text/x-python",
   "name": "python",
   "nbconvert_exporter": "python",
   "pygments_lexer": "ipython3",
   "version": "3.9.7"
  },
  "orig_nbformat": 4,
  "vscode": {
   "interpreter": {
    "hash": "336eef9849b77f6b0e6305e90cdc738d46520fb9fa12c5786748c59b9e847d10"
   }
  }
 },
 "nbformat": 4,
 "nbformat_minor": 2
}
