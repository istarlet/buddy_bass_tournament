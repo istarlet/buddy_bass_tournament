{
 "cells": [
  {
   "cell_type": "markdown",
   "metadata": {},
   "source": [
    "## Buddy Bass Fishing Tournament\n",
    "\n",
    "Dataset:\n",
    "The dataset I'll use is an excel spreadsheet with data collected from the weekly fishing tournament."
   ]
  },
  {
   "cell_type": "markdown",
   "metadata": {},
   "source": [
    "### Importing the Data"
   ]
  },
  {
   "cell_type": "code",
   "execution_count": 37,
   "metadata": {},
   "outputs": [],
   "source": [
    "from matplotlib import pyplot as plt\n",
    "import pandas as pd\n",
    "import numpy as np\n",
    "\n",
    "buddy_bass = pd.read_excel(\"data/Buddy Bass Tournament 2020.xlsx\")"
   ]
  },
  {
   "cell_type": "markdown",
   "metadata": {},
   "source": [
    "### Exploring the Imported Data"
   ]
  },
  {
   "cell_type": "markdown",
   "metadata": {},
   "source": [
    ".head() returns the first 5 rows "
   ]
  },
  {
   "cell_type": "code",
   "execution_count": 38,
   "metadata": {},
   "outputs": [
    {
     "data": {
      "text/html": [
       "<div>\n",
       "<style scoped>\n",
       "    .dataframe tbody tr th:only-of-type {\n",
       "        vertical-align: middle;\n",
       "    }\n",
       "\n",
       "    .dataframe tbody tr th {\n",
       "        vertical-align: top;\n",
       "    }\n",
       "\n",
       "    .dataframe thead th {\n",
       "        text-align: right;\n",
       "    }\n",
       "</style>\n",
       "<table border=\"1\" class=\"dataframe\">\n",
       "  <thead>\n",
       "    <tr style=\"text-align: right;\">\n",
       "      <th></th>\n",
       "      <th>Unnamed: 0</th>\n",
       "      <th>Unnamed: 1</th>\n",
       "      <th>Unnamed: 2</th>\n",
       "      <th>Unnamed: 3</th>\n",
       "      <th>Unnamed: 4</th>\n",
       "      <th>Unnamed: 5</th>\n",
       "    </tr>\n",
       "  </thead>\n",
       "  <tbody>\n",
       "    <tr>\n",
       "      <th>0</th>\n",
       "      <td>Date</td>\n",
       "      <td>Number of Boats</td>\n",
       "      <td>Total No of Fish Caught</td>\n",
       "      <td>Total Weight in Pounds</td>\n",
       "      <td>Big Fish (LBS)</td>\n",
       "      <td>Avg Water Temp</td>\n",
       "    </tr>\n",
       "    <tr>\n",
       "      <th>1</th>\n",
       "      <td>2020-06-24 00:00:00</td>\n",
       "      <td>29.0</td>\n",
       "      <td>49.0</td>\n",
       "      <td>69.8</td>\n",
       "      <td>4.32</td>\n",
       "      <td>75.2</td>\n",
       "    </tr>\n",
       "    <tr>\n",
       "      <th>2</th>\n",
       "      <td>2020-07-01 00:00:00</td>\n",
       "      <td>33.0</td>\n",
       "      <td>61.0</td>\n",
       "      <td>42.2</td>\n",
       "      <td>5.26</td>\n",
       "      <td>76.8</td>\n",
       "    </tr>\n",
       "    <tr>\n",
       "      <th>3</th>\n",
       "      <td>2020-07-08 00:00:00</td>\n",
       "      <td>26.0</td>\n",
       "      <td>50.0</td>\n",
       "      <td>92.2</td>\n",
       "      <td>4.5</td>\n",
       "      <td>76.8</td>\n",
       "    </tr>\n",
       "    <tr>\n",
       "      <th>4</th>\n",
       "      <td>2020-07-15 00:00:00</td>\n",
       "      <td>29.0</td>\n",
       "      <td>54.0</td>\n",
       "      <td>90.31</td>\n",
       "      <td>4.26</td>\n",
       "      <td>78.5</td>\n",
       "    </tr>\n",
       "  </tbody>\n",
       "</table>\n",
       "</div>"
      ],
      "text/plain": [
       "            Unnamed: 0       Unnamed: 1               Unnamed: 2  \\\n",
       "0                 Date  Number of Boats  Total No of Fish Caught   \n",
       "1  2020-06-24 00:00:00             29.0                     49.0   \n",
       "2  2020-07-01 00:00:00             33.0                     61.0   \n",
       "3  2020-07-08 00:00:00             26.0                     50.0   \n",
       "4  2020-07-15 00:00:00             29.0                     54.0   \n",
       "\n",
       "               Unnamed: 3      Unnamed: 4      Unnamed: 5  \n",
       "0  Total Weight in Pounds  Big Fish (LBS)  Avg Water Temp  \n",
       "1                    69.8            4.32            75.2  \n",
       "2                    42.2            5.26            76.8  \n",
       "3                    92.2             4.5            76.8  \n",
       "4                   90.31            4.26            78.5  "
      ]
     },
     "execution_count": 38,
     "metadata": {},
     "output_type": "execute_result"
    }
   ],
   "source": [
    "buddy_bass.head()"
   ]
  },
  {
   "cell_type": "markdown",
   "metadata": {},
   "source": [
    ".info() shows information about the columns including data type and number of missing values"
   ]
  },
  {
   "cell_type": "code",
   "execution_count": 39,
   "metadata": {},
   "outputs": [
    {
     "name": "stdout",
     "output_type": "stream",
     "text": [
      "<class 'pandas.core.frame.DataFrame'>\n",
      "RangeIndex: 12 entries, 0 to 11\n",
      "Data columns (total 6 columns):\n",
      " #   Column      Non-Null Count  Dtype \n",
      "---  ------      --------------  ----- \n",
      " 0   Unnamed: 0  12 non-null     object\n",
      " 1   Unnamed: 1  12 non-null     object\n",
      " 2   Unnamed: 2  12 non-null     object\n",
      " 3   Unnamed: 3  12 non-null     object\n",
      " 4   Unnamed: 4  12 non-null     object\n",
      " 5   Unnamed: 5  12 non-null     object\n",
      "dtypes: object(6)\n",
      "memory usage: 704.0+ bytes\n"
     ]
    }
   ],
   "source": [
    "buddy_bass.info()"
   ]
  },
  {
   "cell_type": "markdown",
   "metadata": {},
   "source": [
    ".shape returns the number of rows and columns"
   ]
  },
  {
   "cell_type": "code",
   "execution_count": 40,
   "metadata": {},
   "outputs": [
    {
     "data": {
      "text/plain": [
       "(12, 6)"
      ]
     },
     "execution_count": 40,
     "metadata": {},
     "output_type": "execute_result"
    }
   ],
   "source": [
    "buddy_bass.shape"
   ]
  },
  {
   "cell_type": "markdown",
   "metadata": {},
   "source": [
    ".describe() calculates summary statistics for each column"
   ]
  },
  {
   "cell_type": "code",
   "execution_count": 41,
   "metadata": {},
   "outputs": [
    {
     "data": {
      "text/html": [
       "<div>\n",
       "<style scoped>\n",
       "    .dataframe tbody tr th:only-of-type {\n",
       "        vertical-align: middle;\n",
       "    }\n",
       "\n",
       "    .dataframe tbody tr th {\n",
       "        vertical-align: top;\n",
       "    }\n",
       "\n",
       "    .dataframe thead th {\n",
       "        text-align: right;\n",
       "    }\n",
       "</style>\n",
       "<table border=\"1\" class=\"dataframe\">\n",
       "  <thead>\n",
       "    <tr style=\"text-align: right;\">\n",
       "      <th></th>\n",
       "      <th>Unnamed: 0</th>\n",
       "      <th>Unnamed: 1</th>\n",
       "      <th>Unnamed: 2</th>\n",
       "      <th>Unnamed: 3</th>\n",
       "      <th>Unnamed: 4</th>\n",
       "      <th>Unnamed: 5</th>\n",
       "    </tr>\n",
       "  </thead>\n",
       "  <tbody>\n",
       "    <tr>\n",
       "      <th>count</th>\n",
       "      <td>12</td>\n",
       "      <td>12.0</td>\n",
       "      <td>12.0</td>\n",
       "      <td>12.00</td>\n",
       "      <td>12</td>\n",
       "      <td>12.0</td>\n",
       "    </tr>\n",
       "    <tr>\n",
       "      <th>unique</th>\n",
       "      <td>12</td>\n",
       "      <td>10.0</td>\n",
       "      <td>11.0</td>\n",
       "      <td>11.00</td>\n",
       "      <td>12</td>\n",
       "      <td>9.0</td>\n",
       "    </tr>\n",
       "    <tr>\n",
       "      <th>top</th>\n",
       "      <td>Date</td>\n",
       "      <td>29.0</td>\n",
       "      <td>33.0</td>\n",
       "      <td>78.23</td>\n",
       "      <td>Big Fish (LBS)</td>\n",
       "      <td>76.8</td>\n",
       "    </tr>\n",
       "    <tr>\n",
       "      <th>freq</th>\n",
       "      <td>1</td>\n",
       "      <td>2.0</td>\n",
       "      <td>2.0</td>\n",
       "      <td>2.00</td>\n",
       "      <td>1</td>\n",
       "      <td>2.0</td>\n",
       "    </tr>\n",
       "  </tbody>\n",
       "</table>\n",
       "</div>"
      ],
      "text/plain": [
       "       Unnamed: 0  Unnamed: 1  Unnamed: 2  Unnamed: 3      Unnamed: 4  \\\n",
       "count          12        12.0        12.0       12.00              12   \n",
       "unique         12        10.0        11.0       11.00              12   \n",
       "top          Date        29.0        33.0       78.23  Big Fish (LBS)   \n",
       "freq            1         2.0         2.0        2.00               1   \n",
       "\n",
       "        Unnamed: 5  \n",
       "count         12.0  \n",
       "unique         9.0  \n",
       "top           76.8  \n",
       "freq           2.0  "
      ]
     },
     "execution_count": 41,
     "metadata": {},
     "output_type": "execute_result"
    }
   ],
   "source": [
    "buddy_bass.describe()"
   ]
  },
  {
   "cell_type": "markdown",
   "metadata": {},
   "source": [
    ".values creates a 2D NumPy array of values"
   ]
  },
  {
   "cell_type": "code",
   "execution_count": 42,
   "metadata": {},
   "outputs": [
    {
     "data": {
      "text/plain": [
       "array([['Date', 'Number of Boats', 'Total No of Fish Caught',\n",
       "        'Total Weight in Pounds', 'Big Fish (LBS)', 'Avg Water Temp'],\n",
       "       [datetime.datetime(2020, 6, 24, 0, 0), 29.0, 49.0, 69.8, 4.32,\n",
       "        75.2],\n",
       "       [datetime.datetime(2020, 7, 1, 0, 0), 33.0, 61.0, 42.2, 5.26,\n",
       "        76.8],\n",
       "       [datetime.datetime(2020, 7, 8, 0, 0), 26.0, 50.0, 92.2, 4.5, 76.8],\n",
       "       [datetime.datetime(2020, 7, 15, 0, 0), 29.0, 54.0, 90.31, 4.26,\n",
       "        78.5],\n",
       "       [datetime.datetime(2020, 7, 22, 0, 0), 32.0, 48.0, 52.94, 5.36,\n",
       "        80.4],\n",
       "       [datetime.datetime(2020, 7, 29, 0, 0), 31.0, 56.0, 68.78, 3.36,\n",
       "        82.0],\n",
       "       [datetime.datetime(2020, 8, 5, 0, 0), 37.0, 71.0, 65.74, 5.44,\n",
       "        82.0],\n",
       "       [datetime.datetime(2020, 8, 12, 0, 0), 31.0, 33.0, 46.74, 2.34,\n",
       "        84.6],\n",
       "       [datetime.datetime(2020, 8, 19, 0, 0), 28.0, 58.0, 55.38, 4.46,\n",
       "        85.3],\n",
       "       [datetime.datetime(2020, 8, 26, 0, 0), 30.0, 33.0, 78.23, 2.84,\n",
       "        85.3],\n",
       "       [datetime.datetime(2020, 9, 13, 0, 0), 27.0, 84.0, 78.23, 4.28,\n",
       "        78.8]], dtype=object)"
      ]
     },
     "execution_count": 42,
     "metadata": {},
     "output_type": "execute_result"
    }
   ],
   "source": [
    "buddy_bass.values"
   ]
  },
  {
   "cell_type": "markdown",
   "metadata": {},
   "source": [
    ".columns creates an index of the column names"
   ]
  },
  {
   "cell_type": "code",
   "execution_count": 43,
   "metadata": {},
   "outputs": [
    {
     "data": {
      "text/plain": [
       "Index(['Unnamed: 0', 'Unnamed: 1', 'Unnamed: 2', 'Unnamed: 3', 'Unnamed: 4',\n",
       "       'Unnamed: 5'],\n",
       "      dtype='object')"
      ]
     },
     "execution_count": 43,
     "metadata": {},
     "output_type": "execute_result"
    }
   ],
   "source": [
    "buddy_bass.columns"
   ]
  },
  {
   "cell_type": "markdown",
   "metadata": {},
   "source": [
    ".index creates an index of the rows, either the row numbers or row names"
   ]
  },
  {
   "cell_type": "code",
   "execution_count": 44,
   "metadata": {},
   "outputs": [
    {
     "data": {
      "text/plain": [
       "RangeIndex(start=0, stop=12, step=1)"
      ]
     },
     "execution_count": 44,
     "metadata": {},
     "output_type": "execute_result"
    }
   ],
   "source": [
    "buddy_bass.index"
   ]
  }
 ],
 "metadata": {
  "kernelspec": {
   "display_name": "Python 3.9.7 ('base')",
   "language": "python",
   "name": "python3"
  },
  "language_info": {
   "codemirror_mode": {
    "name": "ipython",
    "version": 3
   },
   "file_extension": ".py",
   "mimetype": "text/x-python",
   "name": "python",
   "nbconvert_exporter": "python",
   "pygments_lexer": "ipython3",
   "version": "3.9.7"
  },
  "orig_nbformat": 4,
  "vscode": {
   "interpreter": {
    "hash": "336eef9849b77f6b0e6305e90cdc738d46520fb9fa12c5786748c59b9e847d10"
   }
  }
 },
 "nbformat": 4,
 "nbformat_minor": 2
}
